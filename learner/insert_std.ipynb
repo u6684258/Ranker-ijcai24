{
 "cells": [
  {
   "cell_type": "code",
   "execution_count": 2,
   "metadata": {},
   "outputs": [],
   "source": [
    "import plotly.express as px\n",
    "import plotly.graph_objects as go\n",
    "import os\n",
    "import pandas as pd\n",
    "import matplotlib.pyplot as plt\n",
    "import seaborn as sns\n",
    "import scipy\n",
    "import pickle\n",
    "import datetime\n",
    "import numpy as np\n",
    "from dataset.ipc2023_learning_domain_info import IPC2023_LEARNING_DOMAINS, DIFFICULTIES, PROBLEM_INDICES\n",
    "from itertools import product\n",
    "from IPython.display import display, HTML\n",
    "from util.scrape_log import scrape_search_log\n",
    "from pathlib import Path"
   ]
  },
  {
   "cell_type": "code",
   "execution_count": 8,
   "metadata": {},
   "outputs": [],
   "source": [
    "for domain, diff, prob in product(IPC2023_LEARNING_DOMAINS, DIFFICULTIES, PROBLEM_INDICES):\n",
    "    desc = f\"{domain}_{diff}_{prob}\"\n",
    "    og = f\"icaps24_test_logs/{desc}_ilg2_1wl_4_gp_none_H.log\"\n",
    "    std = f\"icaps24_test_logs/{desc}_ilg2_1wl_4_gp_none_H_std.log\"\n",
    "    if os.path.exists(og):\n",
    "        assert os.path.exists(std)\n",
    "        std_line = None\n",
    "        for line in open(std, \"r\").readlines():\n",
    "            if \"Computed std at initial state\" in line:\n",
    "                std_line = line\n",
    "                break\n",
    "        # assert std_line is not None, std\n",
    "\n",
    "        ret = \"\"\n",
    "        for line in open(og, \"r\").readlines():\n",
    "            ret += line\n",
    "            if \"Feature size:\" in line:\n",
    "                ret += std_line\n",
    "\n",
    "        with open(og, \"w\") as f:\n",
    "            f.write(ret)\n"
   ]
  },
  {
   "cell_type": "code",
   "execution_count": null,
   "metadata": {},
   "outputs": [],
   "source": []
  }
 ],
 "metadata": {
  "kernelspec": {
   "display_name": "goose-icaps24",
   "language": "python",
   "name": "python3"
  },
  "language_info": {
   "codemirror_mode": {
    "name": "ipython",
    "version": 3
   },
   "file_extension": ".py",
   "mimetype": "text/x-python",
   "name": "python",
   "nbconvert_exporter": "python",
   "pygments_lexer": "ipython3",
   "version": "3.10.4"
  }
 },
 "nbformat": 4,
 "nbformat_minor": 2
}
