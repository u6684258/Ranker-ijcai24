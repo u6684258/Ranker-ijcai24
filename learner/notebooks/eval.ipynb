{
 "cells": [
  {
   "cell_type": "code",
   "execution_count": 31,
   "metadata": {},
   "outputs": [],
   "source": [
    "import plotly.express as px\n",
    "import plotly.graph_objects as go\n",
    "import os\n",
    "import pandas as pd\n",
    "import matplotlib.pyplot as plt\n",
    "import seaborn as sns\n",
    "import scipy\n",
    "import pickle\n",
    "import datetime\n",
    "import numpy as np\n",
    "from dataset.ipc2023_learning_domain_info import IPC2023_LEARNING_DOMAINS, DIFFICULTIES, PROBLEM_INDICES\n",
    "from itertools import product\n",
    "from IPython.display import display, HTML\n",
    "from util.scrape_log import scrape_search_log\n",
    "from pathlib import Path"
   ]
  },
  {
   "cell_type": "code",
   "execution_count": 32,
   "metadata": {},
   "outputs": [],
   "source": [
    "_ICAPS_PAPER_DIR=str(Path.home())+\"/papers/manuscripts/icaps-24-kernels\"\n",
    "_ICAPS_PLOT_DIR=f\"{_ICAPS_PAPER_DIR}/plots\"\n",
    "os.makedirs(_ICAPS_PLOT_DIR, exist_ok=True)\n",
    "_PLOT_DIRS = [_ICAPS_PLOT_DIR]\n",
    "\n",
    "pd.options.display.float_format = \"{:.1f}\".format"
   ]
  },
  {
   "cell_type": "code",
   "execution_count": 33,
   "metadata": {},
   "outputs": [],
   "source": [
    "## collect logs\n",
    "# os.system(\"sh scripts_gnn/collect_cluster1_test.sh\")\n",
    "# os.system(\"sh scripts_kernel/collect_gadi_test.sh\")"
   ]
  },
  {
   "cell_type": "code",
   "execution_count": 34,
   "metadata": {},
   "outputs": [],
   "source": [
    "BLIND = \"blind\"\n",
    "HFF = \"hff\"\n",
    "\n",
    "GOOSE_MEAN = \"gI4mean\"\n",
    "GOOSE_MAX = \"gI4max\"\n",
    "\n",
    "MUNINN = \"muninn\"\n",
    "GOOSE_LLG_CPU = \"goose-genplan23\"\n",
    "LAMA = \"lama-first\"\n",
    "\n",
    "MQ_GPR = \"combined_gpr\"\n",
    "MQ_SVR = \"combined_svr\"\n",
    "LWL_2 = \"2lwl_4_linear-svr_none\"\n",
    "LWL_3 = \"3lwl_4_linear-svr_none\"\n",
    "SVR_1 = \"1wl_4_linear-svr_none\"\n",
    "SVR_2 = \"1wl_4_quadratic-svr_none\"\n",
    "SVR_3 = \"1wl_4_cubic-svr_none\"\n",
    "SVR_inf = \"1wl_4_rbf-svr_none\"\n",
    "GPR = \"1wl_4_gp_none\"\n",
    "MIP = \"1wl_4_mip_schema\"\n",
    "\n",
    "_MODELS = [\n",
    "    BLIND,\n",
    "    HFF,\n",
    "    LAMA,\n",
    "    MUNINN,\n",
    "    # GOOSE_LLG_CPU,\n",
    "    #   \"gL4max\",\n",
    "    #   \"gL4mean\",\n",
    "    GOOSE_MAX,\n",
    "    GOOSE_MEAN,\n",
    "    # MQ_GPR,\n",
    "    # MQ_SVR,\n",
    "    # MIP,\n",
    "    GPR,\n",
    "    SVR_1,\n",
    "    # SVR_2,\n",
    "    # SVR_3,\n",
    "    SVR_inf,\n",
    "    LWL_2,\n",
    "    # LWL_3,\n",
    "]\n",
    "\n",
    "WLS = {\n",
    "    MQ_GPR,\n",
    "    MQ_SVR,\n",
    "    MIP,\n",
    "    GPR,\n",
    "    SVR_1,\n",
    "    SVR_2,\n",
    "    SVR_3,\n",
    "    SVR_inf,\n",
    "    LWL_2,\n",
    "    LWL_3,\n",
    "}\n",
    "CLASSICAL = {\n",
    "    BLIND,\n",
    "    HFF,\n",
    "    LAMA,\n",
    "}\n",
    "GNNS = {\n",
    "    MUNINN,\n",
    "    GOOSE_LLG_CPU,\n",
    "    GOOSE_MAX, \n",
    "    GOOSE_MEAN,\n",
    "    \"gI4max\",\n",
    "    \"gI4mean\",\n",
    "}\n",
    "\n",
    "MQ_SKIPPED_DOMAINS = {\n",
    "    \"blocksworld\",\n",
    "    \"sokoban\",\n",
    "}\n",
    "\n",
    "PLOT_MAX_STD = 1e3\n",
    "PLOT_MAX_EXPANDED = 1e8\n",
    "PLOT_MAX_COST = 1e4\n",
    "CUM_SIZE = 26"
   ]
  },
  {
   "cell_type": "code",
   "execution_count": 35,
   "metadata": {},
   "outputs": [],
   "source": [
    "RENAME = {\n",
    "    MUNINN: \"Muninn\",\n",
    "    \"gI4max\": \"g_max\",\n",
    "    \"gI4mean\": \"g_mean\",\n",
    "    LAMA: \"lama\",\n",
    "    GOOSE_LLG_CPU: \"gGenPlan23\",\n",
    "    GPR: \"gpr\",\n",
    "    MIP: \"mip\",\n",
    "    SVR_1: \"1svr\",\n",
    "    SVR_2: \"2svr\",\n",
    "    SVR_3: \"3svr\",\n",
    "    SVR_inf: \"∞svr\",\n",
    "    LWL_2: \"2lwl\",\n",
    "    LWL_3: \"3lwl\",\n",
    "    MQ_SVR: \"mq_svr\",\n",
    "    MQ_GPR: \"mq_gpr\",\n",
    "}\n",
    "\n",
    "PLOT_RENAME = {\n",
    "    \"gI4max\": \"GOOSE(max)\",\n",
    "    \"gI4mean\": \"GOOSE(mean)\",\n",
    "    \"hff\": r\"hFF\",\n",
    "}\n",
    "\n",
    "LATEX_RENAME = {\n",
    "    BLIND: r\"$\\text{blind}$\",\n",
    "    HFF: r\"$h^{\\text{FF}}$\",\n",
    "    MUNINN: r\"$\\text{Muninn}$\",\n",
    "    GOOSE_MAX: r\"$\\text{GNN}_{\\text{max}}$\",\n",
    "    GOOSE_MEAN: r\"$\\text{GNN}_{\\text{mean}}$\",\n",
    "    GPR: r\"$\\text{GPR}$\",\n",
    "    MQ_GPR: r\"$\\text{GPR+MIP}$\",\n",
    "    MIP: r\"$\\text{MIP}$\",\n",
    "    SVR_1: r\"$\\text{SVR}$\",\n",
    "    SVR_2: r\"$\\text{SVR}_2$\",\n",
    "    SVR_3: r\"$\\text{SVR}_3$\",\n",
    "    SVR_inf: r\"$\\text{SVR}_{\\inf}$\",\n",
    "    LWL_2: r\"$\\text{2-LWL}$\",\n",
    "}\n",
    "\n",
    "\n",
    "def model_type(model):\n",
    "    if model in GNNS: return \"gnn\"\n",
    "    if model in WLS: return \"wl\" \n",
    "    if model in CLASSICAL: return \"classical\" \n",
    "    raise ValueError(model)\n",
    "\n",
    "\n",
    "def rename(model):\n",
    "    if model in RENAME:\n",
    "        return RENAME[model]\n",
    "    return model\n",
    "\n",
    "\n",
    "def unrename(model):\n",
    "    for k, v in RENAME.items():\n",
    "        if v == model:\n",
    "            return k\n",
    "    return model\n",
    "\n",
    "\n",
    "def plot_rename(model):\n",
    "    if model in PLOT_RENAME:\n",
    "        return PLOT_RENAME[model]\n",
    "    return model\n",
    "\n",
    "def linestyle(model):\n",
    "    if model in CLASSICAL:\n",
    "        return \"solid\"\n",
    "    if model in GNNS:\n",
    "        return \"dotted\"\n",
    "    if model in WLS:\n",
    "        return \"dashed\"\n",
    "    \n",
    "def markerstyle(model):\n",
    "    if model in CLASSICAL:\n",
    "        return \"o\"\n",
    "    if model in GNNS:\n",
    "        return \"x\"\n",
    "    if model in WLS:\n",
    "        return \"P\""
   ]
  },
  {
   "cell_type": "code",
   "execution_count": 36,
   "metadata": {},
   "outputs": [],
   "source": [
    "with open(\"ipc-2023-learning-reference-costs.pkl\", 'rb') as file:\n",
    "    REFERENCE_COSTS = {domain : [] for domain in IPC2023_LEARNING_DOMAINS}\n",
    "    for (domain, diff_in_int, problem_index), reference_cost in pickle.load(file).items():\n",
    "        REFERENCE_COSTS[domain].append(reference_cost)\n",
    "## (domain) -> [reference_costs_1, ..., reference_costs_90]\n",
    "# REFERENCE_COSTS"
   ]
  },
  {
   "cell_type": "code",
   "execution_count": 37,
   "metadata": {},
   "outputs": [],
   "source": [
    "\"\"\" Preprocess data \"\"\"\n",
    "\n",
    "\n",
    "def get_data_tmp(domain):\n",
    "    data = {}\n",
    "\n",
    "    for model in _MODELS:\n",
    "        d = {\n",
    "            \"solved\": [],\n",
    "            \"expanded\": [],\n",
    "            \"cost\": [],\n",
    "            \"first_h\": [],\n",
    "            \"std\": [],\n",
    "            \"ratio_seen_colours\": [],\n",
    "            \"quality\": [],\n",
    "            \"c_opt\": [],\n",
    "            \"c_opt_min\": [],\n",
    "            \"difficulty\": [],\n",
    "            \"time\": [],\n",
    "            \"tried\": [],\n",
    "        }\n",
    "\n",
    "        for diff_i, difficulty in enumerate(DIFFICULTIES):\n",
    "            for prob_i, pf_name in enumerate(PROBLEM_INDICES):\n",
    "                pf = f\"../benchmarks/ipc2023-learning-benchmarks/{domain}/testing/{difficulty}/{pf_name}.pddl\"\n",
    "                assert os.path.exists(pf)\n",
    "                stats = None\n",
    "                if model == \"muninn\":\n",
    "                    stats = {\n",
    "                        \"first_h\": -1,\n",
    "                        \"solved\": 0,\n",
    "                        \"time\": -1,\n",
    "                        \"cost\": -1,\n",
    "                        \"expanded\": -1,\n",
    "                        \"evaluated\": -1,\n",
    "                        \"tried\": 1,\n",
    "                    }\n",
    "                    log_file = f\"logs/muninn/{domain}_{difficulty}_{pf_name}.log\"\n",
    "                    plan_file = f\"logs/muninn/{domain}_{difficulty}_{pf_name}.plan\"\n",
    "                    cost = 0\n",
    "                    if os.path.exists(plan_file):\n",
    "                        with open(plan_file, \"r\") as f:\n",
    "                            for line in f.readlines():\n",
    "                                if len(line) > 0 and line[0] == \"(\":\n",
    "                                    cost += 1\n",
    "                    if cost > 0:\n",
    "                        stats[\"solved\"] = 1\n",
    "                        stats[\"cost\"] = cost\n",
    "                    stats[\"time\"] = 0\n",
    "                    for line in open(log_file, \"r\").readlines():\n",
    "                        if \"[1]\" in line:\n",
    "                            toks = line.replace(\",\", \"\").replace(\"(\", \"\").replace(\")\", \"\").split()\n",
    "                            stats[\"first_h\"] = float(toks[4])\n",
    "                            stats[\"time\"] += float(toks[-2]) / 1000\n",
    "                        # elif \"Walltime Used:\" in line:\n",
    "                        #     time_object = datetime.datetime.strptime(line.split()[-1], \"%H:%M:%S\")\n",
    "                        #     stats[\"time\"] = time_object.hour * 3600 + time_object.minute * 60 + time_object.second\n",
    "                elif model == \"goose-genplan23\":\n",
    "                    log_file = f\"icaps24_test_logs_old/{domain}_{difficulty}_{pf_name}_{model}.log\"\n",
    "                elif model[0] == \"g\":\n",
    "                    # gI4max\n",
    "                    rep = {\"I\": \"ilg\", \"L\": \"llg\"}[model[1]]\n",
    "                    L = model[2]\n",
    "                    aggr = model[3:]\n",
    "                    log_file = f\"icaps24_test_logs_old/{domain}_{difficulty}_{pf_name}_{domain}_{rep}_L{L}_H64_{aggr}_r0.log\"\n",
    "                elif model == MIP and domain in {\"blocksworld\", \"sokoban\"}:\n",
    "                    log_file = f\"logs/ipc2023_blind/{domain}_{difficulty}_{pf_name}_blind.log\"\n",
    "                elif model in WLS:\n",
    "                    desc = None\n",
    "                    desc_helper = model\n",
    "                    if model in {MQ_SVR, MQ_GPR} and domain not in MQ_SKIPPED_DOMAINS:\n",
    "                        desc = model\n",
    "                    elif model == MQ_SVR and domain in MQ_SKIPPED_DOMAINS:\n",
    "                        desc_helper = SVR_1\n",
    "                    elif model == MQ_GPR and domain in MQ_SKIPPED_DOMAINS:\n",
    "                        desc_helper = GPR\n",
    "                    if desc is None:\n",
    "                        desc = f\"ilg2_{desc_helper}_H\"\n",
    "                    log_file = f\"icaps24_test_logs/{domain}_{difficulty}_{pf_name}_{desc}.log\"\n",
    "                else:\n",
    "                    assert model in CLASSICAL\n",
    "                    log_file = f\"logs/ipc2023_{model}/{domain}_{difficulty}_{pf_name}_{model}.log\"\n",
    "\n",
    "                if stats is None:\n",
    "                    stats = scrape_search_log(log_file)\n",
    "\n",
    "                if stats[\"time\"] >= 1800:\n",
    "                    stats[\"solved\"] = 0\n",
    "                    stats[\"time\"] = 1800\n",
    "\n",
    "                c = stats[\"cost\"] if stats[\"solved\"] else -1\n",
    "                c_opt = REFERENCE_COSTS[domain][diff_i * 30 + prob_i]\n",
    "                quality = c_opt / c\n",
    "                quality = max(quality, 0)\n",
    "                quality = min(quality, 1)\n",
    "                stats[\"quality\"] = quality\n",
    "                stats[\"c_opt\"] = c_opt\n",
    "                stats[\"c_opt_min\"] = min(c_opt, stats[\"cost\"])\n",
    "                stats[\"difficulty\"] = difficulty\n",
    "\n",
    "                for k in d:\n",
    "                    d[k].append(stats[k] if k in stats else -1)\n",
    "\n",
    "        data[model] = d\n",
    "\n",
    "    return data\n",
    "\n",
    "\n",
    "data_domain_helper = {}\n",
    "for domain in IPC2023_LEARNING_DOMAINS:\n",
    "    data_domain_helper[domain] = get_data_tmp(domain)\n",
    "\n",
    "\n",
    "def get_data(domain):\n",
    "    return data_domain_helper[domain]\n",
    "\n",
    "\n",
    "def get_whole_df():\n",
    "    ret = {\"domain\": [], \"model\": [], \"model_type\": [], \"difficulty\": [], \"problem\": []}\n",
    "    for domain in IPC2023_LEARNING_DOMAINS:\n",
    "        data = get_data(domain)\n",
    "        stat_keys = set(data[_MODELS[0]].keys())\n",
    "        for k in stat_keys:\n",
    "            if k in ret:\n",
    "                continue\n",
    "            ret[k] = []\n",
    "        for model in _MODELS:\n",
    "            for i in range(90):\n",
    "                ret[\"domain\"].append(domain)\n",
    "                ret[\"model\"].append(rename(model))\n",
    "                ret[\"model_type\"].append(model_type(model))\n",
    "                ret[\"problem\"].append(i + 1)\n",
    "                for k in stat_keys:\n",
    "                    ret[k].append(data[model][k][i])\n",
    "    return pd.DataFrame(data=ret)\n",
    "\n",
    "\n",
    "WHOLE_DF = get_whole_df()\n",
    "# WHOLE_DF"
   ]
  },
  {
   "cell_type": "code",
   "execution_count": 38,
   "metadata": {},
   "outputs": [
    {
     "data": {
      "application/vnd.plotly.v1+json": {
       "config": {
        "plotlyServerURL": "https://plot.ly"
       },
       "data": [
        {
         "hovertemplate": "x=%{x}<br>y=%{y}<extra></extra>",
         "legendgroup": "",
         "line": {
          "color": "gray",
          "dash": "solid"
         },
         "marker": {
          "symbol": "circle"
         },
         "mode": "lines",
         "name": "",
         "orientation": "v",
         "showlegend": false,
         "type": "scatter",
         "x": [
          1,
          10000
         ],
         "xaxis": "x",
         "y": [
          1,
          10000
         ],
         "yaxis": "y"
        },
        {
         "hovertemplate": "domain=blocksworld<br>c_opt_min=%{x}<br>first_h=%{y}<extra></extra>",
         "legendgroup": "blocksworld",
         "marker": {
          "color": "#636efa",
          "symbol": "circle"
         },
         "mode": "markers",
         "name": "blocksworld",
         "orientation": "v",
         "showlegend": true,
         "type": "scatter",
         "x": [
          10,
          8,
          20,
          24,
          24,
          26,
          32,
          32,
          36,
          38,
          48,
          40,
          52,
          50,
          54,
          60,
          64,
          60,
          64,
          58,
          56,
          82,
          68,
          84,
          90,
          80,
          76,
          94,
          90,
          102,
          120,
          132,
          134,
          166,
          174,
          152,
          210,
          220,
          212,
          252,
          280,
          296,
          290,
          298,
          320,
          340,
          360,
          368,
          382,
          394,
          408,
          434,
          432,
          438,
          474,
          482,
          478,
          502,
          536,
          556,
          598,
          638,
          700,
          740,
          772,
          832,
          856,
          890,
          946,
          978,
          1006,
          1088,
          1194,
          1190,
          1350,
          1518,
          1664
         ],
         "xaxis": "x",
         "y": [
          10,
          7,
          18,
          22,
          22,
          26,
          28,
          28,
          33,
          36,
          43,
          40,
          39,
          40,
          44,
          49,
          57,
          53,
          55,
          50,
          57,
          73,
          57,
          72,
          81,
          75,
          66,
          78,
          73,
          88,
          105,
          113,
          121,
          142,
          152,
          150,
          180,
          184,
          205,
          211,
          241,
          254,
          241,
          254,
          268,
          291,
          313,
          312,
          323,
          341,
          346,
          374,
          365,
          385,
          413,
          414,
          405,
          425,
          472,
          463,
          503,
          537,
          610,
          637,
          659,
          718,
          731,
          763,
          811,
          842,
          873,
          923,
          1025,
          1012,
          1149,
          1314,
          1427
         ],
         "yaxis": "y"
        },
        {
         "hovertemplate": "domain=childsnack<br>c_opt_min=%{x}<br>first_h=%{y}<extra></extra>",
         "legendgroup": "childsnack",
         "marker": {
          "color": "#EF553B",
          "symbol": "circle"
         },
         "mode": "markers",
         "name": "childsnack",
         "orientation": "v",
         "showlegend": true,
         "type": "scatter",
         "x": [
          14,
          15,
          14,
          14,
          15,
          17,
          18,
          18,
          17,
          21,
          21,
          21,
          21,
          24,
          24,
          24,
          24,
          24,
          27,
          27,
          30,
          30,
          30,
          30,
          66,
          72,
          84,
          87,
          105,
          111
         ],
         "xaxis": "x",
         "y": [
          14,
          14,
          14,
          14,
          14,
          18,
          18,
          18,
          18,
          21,
          21,
          21,
          21,
          25,
          25,
          25,
          25,
          25,
          28,
          28,
          31,
          31,
          31,
          31,
          73,
          79,
          93,
          97,
          117,
          124
         ],
         "yaxis": "y"
        },
        {
         "hovertemplate": "domain=ferry<br>c_opt_min=%{x}<br>first_h=%{y}<extra></extra>",
         "legendgroup": "ferry",
         "marker": {
          "color": "#00cc96",
          "symbol": "circle"
         },
         "mode": "markers",
         "name": "ferry",
         "orientation": "v",
         "showlegend": true,
         "type": "scatter",
         "x": [
          8,
          8,
          12,
          11,
          15,
          18,
          19,
          23,
          24,
          26,
          30,
          29,
          31,
          33,
          37,
          39,
          46,
          40,
          44,
          49,
          52,
          50,
          52,
          58,
          62,
          66,
          63,
          72,
          66,
          75,
          38,
          47,
          62,
          69,
          77,
          91,
          108,
          108,
          130,
          133,
          146,
          165,
          168,
          175,
          197,
          199,
          198,
          212,
          235,
          235,
          252,
          255,
          276,
          282,
          298,
          304,
          316,
          320,
          334,
          357,
          702,
          790,
          907,
          997,
          1084,
          1178,
          1273,
          1395,
          1486,
          1573,
          1678,
          1760,
          1862,
          2055,
          2129,
          2223
         ],
         "xaxis": "x",
         "y": [
          8,
          8,
          12,
          11,
          15,
          18,
          19,
          23,
          25,
          25,
          30,
          30,
          33,
          32,
          37,
          40,
          44,
          40,
          44,
          49,
          46,
          50,
          52,
          57,
          58,
          58,
          59,
          66,
          64,
          70,
          36,
          47,
          60,
          67,
          75,
          90,
          100,
          105,
          123,
          129,
          139,
          151,
          158,
          161,
          180,
          188,
          191,
          204,
          215,
          222,
          237,
          240,
          252,
          263,
          275,
          278,
          302,
          303,
          311,
          323,
          659,
          748,
          850,
          924,
          1018,
          1103,
          1195,
          1299,
          1368,
          1468,
          1557,
          1631,
          1742,
          1912,
          1990,
          2097
         ],
         "yaxis": "y"
        },
        {
         "hovertemplate": "domain=floortile<br>c_opt_min=%{x}<br>first_h=%{y}<extra></extra>",
         "legendgroup": "floortile",
         "marker": {
          "color": "#ab63fa",
          "symbol": "circle"
         },
         "mode": "markers",
         "name": "floortile",
         "orientation": "v",
         "showlegend": true,
         "type": "scatter",
         "x": [
          26,
          34
         ],
         "xaxis": "x",
         "y": [
          25,
          35
         ],
         "yaxis": "y"
        },
        {
         "hovertemplate": "domain=miconic<br>c_opt_min=%{x}<br>first_h=%{y}<extra></extra>",
         "legendgroup": "miconic",
         "marker": {
          "color": "#FFA15A",
          "symbol": "circle"
         },
         "mode": "markers",
         "name": "miconic",
         "orientation": "v",
         "showlegend": true,
         "type": "scatter",
         "x": [
          4,
          4,
          4,
          8,
          7,
          7,
          10,
          11,
          10,
          15,
          13,
          13,
          18,
          17,
          17,
          20,
          20,
          18,
          24,
          22,
          24,
          28,
          26,
          28,
          28,
          30,
          31,
          35,
          32,
          32,
          62,
          70,
          82,
          85,
          89,
          95,
          105,
          112,
          116,
          122,
          125,
          138,
          134,
          143,
          158,
          159,
          163,
          174,
          176,
          179,
          185,
          190,
          205,
          200,
          214,
          216,
          226,
          230,
          240,
          240,
          172,
          214,
          260,
          299,
          343,
          390,
          434,
          472,
          505,
          579,
          614,
          658,
          715,
          729,
          773,
          824,
          867,
          905,
          943,
          981,
          1019,
          1057,
          1095,
          1133,
          1171,
          1209,
          1247,
          1285,
          1323,
          1361
         ],
         "xaxis": "x",
         "y": [
          4,
          4,
          4,
          7,
          6,
          7,
          10,
          10,
          10,
          14,
          13,
          12,
          17,
          17,
          16,
          20,
          19,
          19,
          22,
          23,
          23,
          26,
          27,
          28,
          28,
          30,
          31,
          33,
          34,
          32,
          64,
          69,
          77,
          85,
          86,
          93,
          102,
          107,
          116,
          117,
          128,
          133,
          138,
          144,
          147,
          155,
          166,
          166,
          178,
          185,
          188,
          195,
          199,
          203,
          211,
          218,
          230,
          230,
          228,
          239,
          163,
          208,
          261,
          303,
          345,
          390,
          434,
          489,
          523,
          550,
          597,
          656,
          682,
          740,
          784,
          828,
          854,
          890,
          943,
          998,
          1013,
          1083,
          1100,
          1145,
          1205,
          1238,
          1287,
          1322,
          1362,
          1395
         ],
         "yaxis": "y"
        },
        {
         "hovertemplate": "domain=rovers<br>c_opt_min=%{x}<br>first_h=%{y}<extra></extra>",
         "legendgroup": "rovers",
         "marker": {
          "color": "#19d3f3",
          "symbol": "circle"
         },
         "mode": "markers",
         "name": "rovers",
         "orientation": "v",
         "showlegend": true,
         "type": "scatter",
         "x": [
          9,
          16,
          23,
          16,
          6,
          20,
          35,
          19,
          6,
          19,
          29,
          30,
          36,
          22,
          41,
          25,
          63,
          27,
          90,
          119,
          57,
          107,
          101,
          86,
          65,
          59,
          84,
          162,
          24,
          135,
          175,
          187,
          416,
          297,
          376,
          268,
          348
         ],
         "xaxis": "x",
         "y": [
          10,
          16,
          25,
          16,
          8,
          21,
          42,
          19,
          7,
          17,
          26,
          26,
          31,
          18,
          38,
          25,
          48,
          24,
          40,
          64,
          39,
          82,
          63,
          48,
          43,
          43,
          56,
          106,
          25,
          82,
          122,
          102,
          187,
          199,
          253,
          184,
          162
         ],
         "yaxis": "y"
        },
        {
         "hovertemplate": "domain=satellite<br>c_opt_min=%{x}<br>first_h=%{y}<extra></extra>",
         "legendgroup": "satellite",
         "marker": {
          "color": "#FF6692",
          "symbol": "circle"
         },
         "mode": "markers",
         "name": "satellite",
         "orientation": "v",
         "showlegend": true,
         "type": "scatter",
         "x": [
          4,
          8,
          8,
          5,
          9,
          10,
          10,
          8,
          9,
          8,
          17,
          11,
          8,
          18,
          13,
          21,
          21,
          12,
          25,
          44,
          30,
          29,
          18,
          11,
          49,
          67,
          61,
          51,
          12,
          46,
          97,
          105,
          94,
          95,
          100,
          104,
          39,
          125,
          55,
          169,
          128,
          159,
          146,
          59,
          149,
          132,
          174,
          217,
          194,
          208,
          115,
          255,
          158,
          244,
          254,
          110,
          255
         ],
         "xaxis": "x",
         "y": [
          4,
          5,
          7,
          5,
          6,
          8,
          8,
          7,
          7,
          5,
          15,
          9,
          7,
          15,
          11,
          19,
          19,
          10,
          23,
          27,
          29,
          28,
          15,
          10,
          24,
          37,
          35,
          31,
          9,
          26,
          60,
          65,
          55,
          58,
          52,
          62,
          11,
          59,
          20,
          117,
          71,
          86,
          84,
          22,
          114,
          51,
          101,
          148,
          125,
          125,
          41,
          165,
          56,
          155,
          180,
          31,
          178
         ],
         "yaxis": "y"
        },
        {
         "hovertemplate": "domain=sokoban<br>c_opt_min=%{x}<br>first_h=%{y}<extra></extra>",
         "legendgroup": "sokoban",
         "marker": {
          "color": "#B6E880",
          "symbol": "circle"
         },
         "mode": "markers",
         "name": "sokoban",
         "orientation": "v",
         "showlegend": true,
         "type": "scatter",
         "x": [
          10,
          7,
          5,
          17,
          9,
          17,
          12,
          11,
          16,
          11,
          9,
          22,
          23,
          14,
          16,
          36,
          29,
          27,
          36,
          35,
          29,
          16,
          25,
          29,
          45,
          52,
          53,
          46,
          62,
          49,
          116,
          131,
          225,
          251,
          277,
          246,
          417,
          344
         ],
         "xaxis": "x",
         "y": [
          5,
          6,
          6,
          6,
          6,
          9,
          8,
          7,
          16,
          15,
          5,
          17,
          16,
          18,
          18,
          26,
          27,
          27,
          28,
          26,
          29,
          17,
          33,
          40,
          37,
          38,
          39,
          40,
          42,
          41,
          65,
          84,
          91,
          99,
          111,
          138,
          153,
          157
         ],
         "yaxis": "y"
        },
        {
         "hovertemplate": "domain=spanner<br>c_opt_min=%{x}<br>first_h=%{y}<extra></extra>",
         "legendgroup": "spanner",
         "marker": {
          "color": "#FF97FF",
          "symbol": "circle"
         },
         "mode": "markers",
         "name": "spanner",
         "orientation": "v",
         "showlegend": true,
         "type": "scatter",
         "x": [
          7,
          7,
          7,
          7,
          7,
          8,
          10,
          10,
          10,
          11,
          11,
          11,
          13,
          14,
          14,
          14,
          14,
          14,
          17,
          17,
          17,
          17,
          18,
          18,
          20,
          20,
          21,
          21,
          21,
          21,
          61,
          65,
          69,
          72,
          77,
          82,
          85,
          90,
          93,
          98,
          103,
          107,
          111,
          114,
          119,
          123,
          128,
          132,
          135,
          140,
          144,
          149,
          152,
          157,
          161,
          166,
          170,
          173,
          178,
          182,
          201,
          221,
          243,
          260,
          284,
          308,
          329,
          351,
          373,
          396,
          418,
          439,
          461,
          483
         ],
         "xaxis": "x",
         "y": [
          6,
          6,
          6,
          6,
          6,
          6,
          9,
          9,
          9,
          9,
          9,
          9,
          12,
          13,
          12,
          12,
          13,
          12,
          16,
          16,
          16,
          15,
          16,
          16,
          18,
          18,
          19,
          19,
          19,
          18,
          46,
          48,
          52,
          55,
          58,
          63,
          66,
          70,
          72,
          74,
          83,
          84,
          89,
          90,
          94,
          99,
          102,
          106,
          109,
          111,
          118,
          120,
          122,
          129,
          130,
          137,
          140,
          140,
          144,
          148,
          148,
          162,
          183,
          199,
          214,
          235,
          249,
          268,
          281,
          300,
          321,
          338,
          347,
          371
         ],
         "yaxis": "y"
        },
        {
         "hovertemplate": "domain=transport<br>c_opt_min=%{x}<br>first_h=%{y}<extra></extra>",
         "legendgroup": "transport",
         "marker": {
          "color": "#FECB52",
          "symbol": "circle"
         },
         "mode": "markers",
         "name": "transport",
         "orientation": "v",
         "showlegend": true,
         "type": "scatter",
         "x": [
          3,
          4,
          6,
          6,
          12,
          13,
          14,
          15,
          19,
          17,
          21,
          26,
          32,
          44,
          34,
          45,
          45,
          45,
          51,
          44,
          47,
          43,
          66,
          71,
          59,
          69,
          87,
          54,
          68,
          58,
          33,
          38
         ],
         "xaxis": "x",
         "y": [
          3,
          3,
          6,
          6,
          12,
          15,
          13,
          18,
          14,
          15,
          22,
          19,
          23,
          24,
          26,
          30,
          32,
          27,
          35,
          37,
          36,
          38,
          40,
          45,
          40,
          42,
          46,
          46,
          50,
          52,
          17,
          26
         ],
         "yaxis": "y"
        }
       ],
       "layout": {
        "legend": {
         "title": {
          "text": "domain"
         },
         "tracegroupgap": 0
        },
        "margin": {
         "t": 60
        },
        "template": {
         "data": {
          "bar": [
           {
            "error_x": {
             "color": "#2a3f5f"
            },
            "error_y": {
             "color": "#2a3f5f"
            },
            "marker": {
             "line": {
              "color": "#E5ECF6",
              "width": 0.5
             },
             "pattern": {
              "fillmode": "overlay",
              "size": 10,
              "solidity": 0.2
             }
            },
            "type": "bar"
           }
          ],
          "barpolar": [
           {
            "marker": {
             "line": {
              "color": "#E5ECF6",
              "width": 0.5
             },
             "pattern": {
              "fillmode": "overlay",
              "size": 10,
              "solidity": 0.2
             }
            },
            "type": "barpolar"
           }
          ],
          "carpet": [
           {
            "aaxis": {
             "endlinecolor": "#2a3f5f",
             "gridcolor": "white",
             "linecolor": "white",
             "minorgridcolor": "white",
             "startlinecolor": "#2a3f5f"
            },
            "baxis": {
             "endlinecolor": "#2a3f5f",
             "gridcolor": "white",
             "linecolor": "white",
             "minorgridcolor": "white",
             "startlinecolor": "#2a3f5f"
            },
            "type": "carpet"
           }
          ],
          "choropleth": [
           {
            "colorbar": {
             "outlinewidth": 0,
             "ticks": ""
            },
            "type": "choropleth"
           }
          ],
          "contour": [
           {
            "colorbar": {
             "outlinewidth": 0,
             "ticks": ""
            },
            "colorscale": [
             [
              0,
              "#0d0887"
             ],
             [
              0.1111111111111111,
              "#46039f"
             ],
             [
              0.2222222222222222,
              "#7201a8"
             ],
             [
              0.3333333333333333,
              "#9c179e"
             ],
             [
              0.4444444444444444,
              "#bd3786"
             ],
             [
              0.5555555555555556,
              "#d8576b"
             ],
             [
              0.6666666666666666,
              "#ed7953"
             ],
             [
              0.7777777777777778,
              "#fb9f3a"
             ],
             [
              0.8888888888888888,
              "#fdca26"
             ],
             [
              1,
              "#f0f921"
             ]
            ],
            "type": "contour"
           }
          ],
          "contourcarpet": [
           {
            "colorbar": {
             "outlinewidth": 0,
             "ticks": ""
            },
            "type": "contourcarpet"
           }
          ],
          "heatmap": [
           {
            "colorbar": {
             "outlinewidth": 0,
             "ticks": ""
            },
            "colorscale": [
             [
              0,
              "#0d0887"
             ],
             [
              0.1111111111111111,
              "#46039f"
             ],
             [
              0.2222222222222222,
              "#7201a8"
             ],
             [
              0.3333333333333333,
              "#9c179e"
             ],
             [
              0.4444444444444444,
              "#bd3786"
             ],
             [
              0.5555555555555556,
              "#d8576b"
             ],
             [
              0.6666666666666666,
              "#ed7953"
             ],
             [
              0.7777777777777778,
              "#fb9f3a"
             ],
             [
              0.8888888888888888,
              "#fdca26"
             ],
             [
              1,
              "#f0f921"
             ]
            ],
            "type": "heatmap"
           }
          ],
          "heatmapgl": [
           {
            "colorbar": {
             "outlinewidth": 0,
             "ticks": ""
            },
            "colorscale": [
             [
              0,
              "#0d0887"
             ],
             [
              0.1111111111111111,
              "#46039f"
             ],
             [
              0.2222222222222222,
              "#7201a8"
             ],
             [
              0.3333333333333333,
              "#9c179e"
             ],
             [
              0.4444444444444444,
              "#bd3786"
             ],
             [
              0.5555555555555556,
              "#d8576b"
             ],
             [
              0.6666666666666666,
              "#ed7953"
             ],
             [
              0.7777777777777778,
              "#fb9f3a"
             ],
             [
              0.8888888888888888,
              "#fdca26"
             ],
             [
              1,
              "#f0f921"
             ]
            ],
            "type": "heatmapgl"
           }
          ],
          "histogram": [
           {
            "marker": {
             "pattern": {
              "fillmode": "overlay",
              "size": 10,
              "solidity": 0.2
             }
            },
            "type": "histogram"
           }
          ],
          "histogram2d": [
           {
            "colorbar": {
             "outlinewidth": 0,
             "ticks": ""
            },
            "colorscale": [
             [
              0,
              "#0d0887"
             ],
             [
              0.1111111111111111,
              "#46039f"
             ],
             [
              0.2222222222222222,
              "#7201a8"
             ],
             [
              0.3333333333333333,
              "#9c179e"
             ],
             [
              0.4444444444444444,
              "#bd3786"
             ],
             [
              0.5555555555555556,
              "#d8576b"
             ],
             [
              0.6666666666666666,
              "#ed7953"
             ],
             [
              0.7777777777777778,
              "#fb9f3a"
             ],
             [
              0.8888888888888888,
              "#fdca26"
             ],
             [
              1,
              "#f0f921"
             ]
            ],
            "type": "histogram2d"
           }
          ],
          "histogram2dcontour": [
           {
            "colorbar": {
             "outlinewidth": 0,
             "ticks": ""
            },
            "colorscale": [
             [
              0,
              "#0d0887"
             ],
             [
              0.1111111111111111,
              "#46039f"
             ],
             [
              0.2222222222222222,
              "#7201a8"
             ],
             [
              0.3333333333333333,
              "#9c179e"
             ],
             [
              0.4444444444444444,
              "#bd3786"
             ],
             [
              0.5555555555555556,
              "#d8576b"
             ],
             [
              0.6666666666666666,
              "#ed7953"
             ],
             [
              0.7777777777777778,
              "#fb9f3a"
             ],
             [
              0.8888888888888888,
              "#fdca26"
             ],
             [
              1,
              "#f0f921"
             ]
            ],
            "type": "histogram2dcontour"
           }
          ],
          "mesh3d": [
           {
            "colorbar": {
             "outlinewidth": 0,
             "ticks": ""
            },
            "type": "mesh3d"
           }
          ],
          "parcoords": [
           {
            "line": {
             "colorbar": {
              "outlinewidth": 0,
              "ticks": ""
             }
            },
            "type": "parcoords"
           }
          ],
          "pie": [
           {
            "automargin": true,
            "type": "pie"
           }
          ],
          "scatter": [
           {
            "fillpattern": {
             "fillmode": "overlay",
             "size": 10,
             "solidity": 0.2
            },
            "type": "scatter"
           }
          ],
          "scatter3d": [
           {
            "line": {
             "colorbar": {
              "outlinewidth": 0,
              "ticks": ""
             }
            },
            "marker": {
             "colorbar": {
              "outlinewidth": 0,
              "ticks": ""
             }
            },
            "type": "scatter3d"
           }
          ],
          "scattercarpet": [
           {
            "marker": {
             "colorbar": {
              "outlinewidth": 0,
              "ticks": ""
             }
            },
            "type": "scattercarpet"
           }
          ],
          "scattergeo": [
           {
            "marker": {
             "colorbar": {
              "outlinewidth": 0,
              "ticks": ""
             }
            },
            "type": "scattergeo"
           }
          ],
          "scattergl": [
           {
            "marker": {
             "colorbar": {
              "outlinewidth": 0,
              "ticks": ""
             }
            },
            "type": "scattergl"
           }
          ],
          "scattermapbox": [
           {
            "marker": {
             "colorbar": {
              "outlinewidth": 0,
              "ticks": ""
             }
            },
            "type": "scattermapbox"
           }
          ],
          "scatterpolar": [
           {
            "marker": {
             "colorbar": {
              "outlinewidth": 0,
              "ticks": ""
             }
            },
            "type": "scatterpolar"
           }
          ],
          "scatterpolargl": [
           {
            "marker": {
             "colorbar": {
              "outlinewidth": 0,
              "ticks": ""
             }
            },
            "type": "scatterpolargl"
           }
          ],
          "scatterternary": [
           {
            "marker": {
             "colorbar": {
              "outlinewidth": 0,
              "ticks": ""
             }
            },
            "type": "scatterternary"
           }
          ],
          "surface": [
           {
            "colorbar": {
             "outlinewidth": 0,
             "ticks": ""
            },
            "colorscale": [
             [
              0,
              "#0d0887"
             ],
             [
              0.1111111111111111,
              "#46039f"
             ],
             [
              0.2222222222222222,
              "#7201a8"
             ],
             [
              0.3333333333333333,
              "#9c179e"
             ],
             [
              0.4444444444444444,
              "#bd3786"
             ],
             [
              0.5555555555555556,
              "#d8576b"
             ],
             [
              0.6666666666666666,
              "#ed7953"
             ],
             [
              0.7777777777777778,
              "#fb9f3a"
             ],
             [
              0.8888888888888888,
              "#fdca26"
             ],
             [
              1,
              "#f0f921"
             ]
            ],
            "type": "surface"
           }
          ],
          "table": [
           {
            "cells": {
             "fill": {
              "color": "#EBF0F8"
             },
             "line": {
              "color": "white"
             }
            },
            "header": {
             "fill": {
              "color": "#C8D4E3"
             },
             "line": {
              "color": "white"
             }
            },
            "type": "table"
           }
          ]
         },
         "layout": {
          "annotationdefaults": {
           "arrowcolor": "#2a3f5f",
           "arrowhead": 0,
           "arrowwidth": 1
          },
          "autotypenumbers": "strict",
          "coloraxis": {
           "colorbar": {
            "outlinewidth": 0,
            "ticks": ""
           }
          },
          "colorscale": {
           "diverging": [
            [
             0,
             "#8e0152"
            ],
            [
             0.1,
             "#c51b7d"
            ],
            [
             0.2,
             "#de77ae"
            ],
            [
             0.3,
             "#f1b6da"
            ],
            [
             0.4,
             "#fde0ef"
            ],
            [
             0.5,
             "#f7f7f7"
            ],
            [
             0.6,
             "#e6f5d0"
            ],
            [
             0.7,
             "#b8e186"
            ],
            [
             0.8,
             "#7fbc41"
            ],
            [
             0.9,
             "#4d9221"
            ],
            [
             1,
             "#276419"
            ]
           ],
           "sequential": [
            [
             0,
             "#0d0887"
            ],
            [
             0.1111111111111111,
             "#46039f"
            ],
            [
             0.2222222222222222,
             "#7201a8"
            ],
            [
             0.3333333333333333,
             "#9c179e"
            ],
            [
             0.4444444444444444,
             "#bd3786"
            ],
            [
             0.5555555555555556,
             "#d8576b"
            ],
            [
             0.6666666666666666,
             "#ed7953"
            ],
            [
             0.7777777777777778,
             "#fb9f3a"
            ],
            [
             0.8888888888888888,
             "#fdca26"
            ],
            [
             1,
             "#f0f921"
            ]
           ],
           "sequentialminus": [
            [
             0,
             "#0d0887"
            ],
            [
             0.1111111111111111,
             "#46039f"
            ],
            [
             0.2222222222222222,
             "#7201a8"
            ],
            [
             0.3333333333333333,
             "#9c179e"
            ],
            [
             0.4444444444444444,
             "#bd3786"
            ],
            [
             0.5555555555555556,
             "#d8576b"
            ],
            [
             0.6666666666666666,
             "#ed7953"
            ],
            [
             0.7777777777777778,
             "#fb9f3a"
            ],
            [
             0.8888888888888888,
             "#fdca26"
            ],
            [
             1,
             "#f0f921"
            ]
           ]
          },
          "colorway": [
           "#636efa",
           "#EF553B",
           "#00cc96",
           "#ab63fa",
           "#FFA15A",
           "#19d3f3",
           "#FF6692",
           "#B6E880",
           "#FF97FF",
           "#FECB52"
          ],
          "font": {
           "color": "#2a3f5f"
          },
          "geo": {
           "bgcolor": "white",
           "lakecolor": "white",
           "landcolor": "#E5ECF6",
           "showlakes": true,
           "showland": true,
           "subunitcolor": "white"
          },
          "hoverlabel": {
           "align": "left"
          },
          "hovermode": "closest",
          "mapbox": {
           "style": "light"
          },
          "paper_bgcolor": "white",
          "plot_bgcolor": "#E5ECF6",
          "polar": {
           "angularaxis": {
            "gridcolor": "white",
            "linecolor": "white",
            "ticks": ""
           },
           "bgcolor": "#E5ECF6",
           "radialaxis": {
            "gridcolor": "white",
            "linecolor": "white",
            "ticks": ""
           }
          },
          "scene": {
           "xaxis": {
            "backgroundcolor": "#E5ECF6",
            "gridcolor": "white",
            "gridwidth": 2,
            "linecolor": "white",
            "showbackground": true,
            "ticks": "",
            "zerolinecolor": "white"
           },
           "yaxis": {
            "backgroundcolor": "#E5ECF6",
            "gridcolor": "white",
            "gridwidth": 2,
            "linecolor": "white",
            "showbackground": true,
            "ticks": "",
            "zerolinecolor": "white"
           },
           "zaxis": {
            "backgroundcolor": "#E5ECF6",
            "gridcolor": "white",
            "gridwidth": 2,
            "linecolor": "white",
            "showbackground": true,
            "ticks": "",
            "zerolinecolor": "white"
           }
          },
          "shapedefaults": {
           "line": {
            "color": "#2a3f5f"
           }
          },
          "ternary": {
           "aaxis": {
            "gridcolor": "white",
            "linecolor": "white",
            "ticks": ""
           },
           "baxis": {
            "gridcolor": "white",
            "linecolor": "white",
            "ticks": ""
           },
           "bgcolor": "#E5ECF6",
           "caxis": {
            "gridcolor": "white",
            "linecolor": "white",
            "ticks": ""
           }
          },
          "title": {
           "x": 0.05
          },
          "xaxis": {
           "automargin": true,
           "gridcolor": "white",
           "linecolor": "white",
           "ticks": "",
           "title": {
            "standoff": 15
           },
           "zerolinecolor": "white",
           "zerolinewidth": 2
          },
          "yaxis": {
           "automargin": true,
           "gridcolor": "white",
           "linecolor": "white",
           "ticks": "",
           "title": {
            "standoff": 15
           },
           "zerolinecolor": "white",
           "zerolinewidth": 2
          }
         }
        },
        "xaxis": {
         "anchor": "y",
         "domain": [
          0,
          1
         ],
         "title": {
          "text": "c_opt_min"
         },
         "type": "log"
        },
        "yaxis": {
         "anchor": "x",
         "domain": [
          0,
          1
         ],
         "title": {
          "text": "first_h"
         },
         "type": "log"
        }
       }
      }
     },
     "metadata": {},
     "output_type": "display_data"
    }
   ],
   "source": [
    "\"\"\" visualise prediction vs min(returned plan length, reference plan length)\"\"\"\n",
    "model = GPR\n",
    "df = WHOLE_DF\n",
    "df = df[df[\"solved\"] == True]\n",
    "df = df[df[\"model\"] == rename(model)]\n",
    "fig = px.scatter(df, x=\"c_opt_min\", y=\"first_h\", color=\"domain\", log_x=True, log_y=True)\n",
    "max_metric= 1e4\n",
    "diagonal = px.line(x=[1, max_metric], y=[1, max_metric], color_discrete_sequence=['gray'])\n",
    "fig = go.Figure(diagonal.data + fig.data, layout=fig.layout)\n",
    "fig.show()"
   ]
  },
  {
   "cell_type": "markdown",
   "metadata": {},
   "source": [
    "## Summary of scores"
   ]
  },
  {
   "cell_type": "code",
   "execution_count": 39,
   "metadata": {},
   "outputs": [],
   "source": [
    "def get_table_df(models=None, metric=\"quality\"):\n",
    "    d = {\n",
    "        \"domain\": [],\n",
    "    }\n",
    "    if models is None:\n",
    "        models = _MODELS\n",
    "    for config in models:\n",
    "        d[rename(config)] = []\n",
    "\n",
    "    sum_scores = {config: 0 for config in models}\n",
    "\n",
    "    for domain in IPC2023_LEARNING_DOMAINS:\n",
    "        data = get_data(domain)\n",
    "        d[\"domain\"].append(domain)\n",
    "\n",
    "        for config in models:\n",
    "            score = sum(data[config][metric])\n",
    "            d[rename(config)].append(score)\n",
    "            sum_scores[config] += score\n",
    "\n",
    "    d[\"domain\"].append(\"sum\")\n",
    "    for config in models:\n",
    "        d[rename(config)].append(sum_scores[config])\n",
    "\n",
    "    return pd.DataFrame(d)"
   ]
  },
  {
   "cell_type": "code",
   "execution_count": 40,
   "metadata": {},
   "outputs": [
    {
     "name": "stdout",
     "output_type": "stream",
     "text": [
      "TODO: find the floortile goose can solve\n"
     ]
    },
    {
     "data": {
      "text/html": [
       "<div>\n",
       "<style scoped>\n",
       "    .dataframe tbody tr th:only-of-type {\n",
       "        vertical-align: middle;\n",
       "    }\n",
       "\n",
       "    .dataframe tbody tr th {\n",
       "        vertical-align: top;\n",
       "    }\n",
       "\n",
       "    .dataframe thead th {\n",
       "        text-align: right;\n",
       "    }\n",
       "</style>\n",
       "<table border=\"1\" class=\"dataframe\">\n",
       "  <thead>\n",
       "    <tr style=\"text-align: right;\">\n",
       "      <th></th>\n",
       "      <th>domain</th>\n",
       "      <th>blind</th>\n",
       "      <th>hff</th>\n",
       "      <th>lama</th>\n",
       "      <th>Muninn</th>\n",
       "      <th>g_max</th>\n",
       "      <th>g_mean</th>\n",
       "      <th>gpr</th>\n",
       "      <th>1svr</th>\n",
       "      <th>∞svr</th>\n",
       "      <th>2lwl</th>\n",
       "    </tr>\n",
       "  </thead>\n",
       "  <tbody>\n",
       "    <tr>\n",
       "      <th>0</th>\n",
       "      <td>blocksworld</td>\n",
       "      <td>8</td>\n",
       "      <td>28</td>\n",
       "      <td>61</td>\n",
       "      <td>40</td>\n",
       "      <td>49</td>\n",
       "      <td>58</td>\n",
       "      <td>77</td>\n",
       "      <td>72</td>\n",
       "      <td>20</td>\n",
       "      <td>22</td>\n",
       "    </tr>\n",
       "    <tr>\n",
       "      <th>1</th>\n",
       "      <td>childsnack</td>\n",
       "      <td>9</td>\n",
       "      <td>26</td>\n",
       "      <td>35</td>\n",
       "      <td>11</td>\n",
       "      <td>19</td>\n",
       "      <td>20</td>\n",
       "      <td>30</td>\n",
       "      <td>16</td>\n",
       "      <td>15</td>\n",
       "      <td>13</td>\n",
       "    </tr>\n",
       "    <tr>\n",
       "      <th>2</th>\n",
       "      <td>ferry</td>\n",
       "      <td>10</td>\n",
       "      <td>68</td>\n",
       "      <td>68</td>\n",
       "      <td>46</td>\n",
       "      <td>64</td>\n",
       "      <td>72</td>\n",
       "      <td>76</td>\n",
       "      <td>77</td>\n",
       "      <td>32</td>\n",
       "      <td>60</td>\n",
       "    </tr>\n",
       "    <tr>\n",
       "      <th>3</th>\n",
       "      <td>floortile</td>\n",
       "      <td>2</td>\n",
       "      <td>12</td>\n",
       "      <td>11</td>\n",
       "      <td>0</td>\n",
       "      <td>0</td>\n",
       "      <td>0</td>\n",
       "      <td>2</td>\n",
       "      <td>2</td>\n",
       "      <td>0</td>\n",
       "      <td>1</td>\n",
       "    </tr>\n",
       "    <tr>\n",
       "      <th>4</th>\n",
       "      <td>miconic</td>\n",
       "      <td>30</td>\n",
       "      <td>90</td>\n",
       "      <td>90</td>\n",
       "      <td>30</td>\n",
       "      <td>90</td>\n",
       "      <td>90</td>\n",
       "      <td>90</td>\n",
       "      <td>90</td>\n",
       "      <td>31</td>\n",
       "      <td>67</td>\n",
       "    </tr>\n",
       "    <tr>\n",
       "      <th>5</th>\n",
       "      <td>rovers</td>\n",
       "      <td>15</td>\n",
       "      <td>34</td>\n",
       "      <td>67</td>\n",
       "      <td>15</td>\n",
       "      <td>25</td>\n",
       "      <td>29</td>\n",
       "      <td>37</td>\n",
       "      <td>33</td>\n",
       "      <td>27</td>\n",
       "      <td>33</td>\n",
       "    </tr>\n",
       "    <tr>\n",
       "      <th>6</th>\n",
       "      <td>satellite</td>\n",
       "      <td>12</td>\n",
       "      <td>65</td>\n",
       "      <td>89</td>\n",
       "      <td>18</td>\n",
       "      <td>31</td>\n",
       "      <td>29</td>\n",
       "      <td>57</td>\n",
       "      <td>46</td>\n",
       "      <td>29</td>\n",
       "      <td>20</td>\n",
       "    </tr>\n",
       "    <tr>\n",
       "      <th>7</th>\n",
       "      <td>sokoban</td>\n",
       "      <td>27</td>\n",
       "      <td>36</td>\n",
       "      <td>40</td>\n",
       "      <td>26</td>\n",
       "      <td>32</td>\n",
       "      <td>33</td>\n",
       "      <td>38</td>\n",
       "      <td>38</td>\n",
       "      <td>30</td>\n",
       "      <td>31</td>\n",
       "    </tr>\n",
       "    <tr>\n",
       "      <th>8</th>\n",
       "      <td>spanner</td>\n",
       "      <td>30</td>\n",
       "      <td>30</td>\n",
       "      <td>30</td>\n",
       "      <td>32</td>\n",
       "      <td>30</td>\n",
       "      <td>33</td>\n",
       "      <td>74</td>\n",
       "      <td>74</td>\n",
       "      <td>30</td>\n",
       "      <td>52</td>\n",
       "    </tr>\n",
       "    <tr>\n",
       "      <th>9</th>\n",
       "      <td>transport</td>\n",
       "      <td>9</td>\n",
       "      <td>41</td>\n",
       "      <td>66</td>\n",
       "      <td>17</td>\n",
       "      <td>38</td>\n",
       "      <td>35</td>\n",
       "      <td>32</td>\n",
       "      <td>29</td>\n",
       "      <td>26</td>\n",
       "      <td>35</td>\n",
       "    </tr>\n",
       "    <tr>\n",
       "      <th>10</th>\n",
       "      <td>sum</td>\n",
       "      <td>152</td>\n",
       "      <td>430</td>\n",
       "      <td>557</td>\n",
       "      <td>235</td>\n",
       "      <td>378</td>\n",
       "      <td>399</td>\n",
       "      <td>513</td>\n",
       "      <td>477</td>\n",
       "      <td>240</td>\n",
       "      <td>334</td>\n",
       "    </tr>\n",
       "  </tbody>\n",
       "</table>\n",
       "</div>"
      ],
      "text/plain": [
       "         domain  blind  hff  lama  Muninn  g_max  g_mean  gpr  1svr  ∞svr  \\\n",
       "0   blocksworld      8   28    61      40     49      58   77    72    20   \n",
       "1    childsnack      9   26    35      11     19      20   30    16    15   \n",
       "2         ferry     10   68    68      46     64      72   76    77    32   \n",
       "3     floortile      2   12    11       0      0       0    2     2     0   \n",
       "4       miconic     30   90    90      30     90      90   90    90    31   \n",
       "5        rovers     15   34    67      15     25      29   37    33    27   \n",
       "6     satellite     12   65    89      18     31      29   57    46    29   \n",
       "7       sokoban     27   36    40      26     32      33   38    38    30   \n",
       "8       spanner     30   30    30      32     30      33   74    74    30   \n",
       "9     transport      9   41    66      17     38      35   32    29    26   \n",
       "10          sum    152  430   557     235    378     399  513   477   240   \n",
       "\n",
       "    2lwl  \n",
       "0     22  \n",
       "1     13  \n",
       "2     60  \n",
       "3      1  \n",
       "4     67  \n",
       "5     33  \n",
       "6     20  \n",
       "7     31  \n",
       "8     52  \n",
       "9     35  \n",
       "10   334  "
      ]
     },
     "metadata": {},
     "output_type": "display_data"
    },
    {
     "data": {
      "text/html": [
       "<div>\n",
       "<style scoped>\n",
       "    .dataframe tbody tr th:only-of-type {\n",
       "        vertical-align: middle;\n",
       "    }\n",
       "\n",
       "    .dataframe tbody tr th {\n",
       "        vertical-align: top;\n",
       "    }\n",
       "\n",
       "    .dataframe thead th {\n",
       "        text-align: right;\n",
       "    }\n",
       "</style>\n",
       "<table border=\"1\" class=\"dataframe\">\n",
       "  <thead>\n",
       "    <tr style=\"text-align: right;\">\n",
       "      <th></th>\n",
       "      <th>domain</th>\n",
       "      <th>blind</th>\n",
       "      <th>hff</th>\n",
       "      <th>lama</th>\n",
       "      <th>Muninn</th>\n",
       "      <th>g_max</th>\n",
       "      <th>g_mean</th>\n",
       "      <th>gpr</th>\n",
       "      <th>1svr</th>\n",
       "      <th>∞svr</th>\n",
       "      <th>2lwl</th>\n",
       "    </tr>\n",
       "  </thead>\n",
       "  <tbody>\n",
       "    <tr>\n",
       "      <th>0</th>\n",
       "      <td>blocksworld</td>\n",
       "      <td>8.0</td>\n",
       "      <td>14.1</td>\n",
       "      <td>39.8</td>\n",
       "      <td>40.0</td>\n",
       "      <td>45.6</td>\n",
       "      <td>52.7</td>\n",
       "      <td>70.2</td>\n",
       "      <td>66.1</td>\n",
       "      <td>19.2</td>\n",
       "      <td>14.2</td>\n",
       "    </tr>\n",
       "    <tr>\n",
       "      <th>1</th>\n",
       "      <td>childsnack</td>\n",
       "      <td>9.0</td>\n",
       "      <td>20.1</td>\n",
       "      <td>22.0</td>\n",
       "      <td>11.0</td>\n",
       "      <td>17.6</td>\n",
       "      <td>19.9</td>\n",
       "      <td>27.8</td>\n",
       "      <td>15.1</td>\n",
       "      <td>12.6</td>\n",
       "      <td>10.8</td>\n",
       "    </tr>\n",
       "    <tr>\n",
       "      <th>2</th>\n",
       "      <td>ferry</td>\n",
       "      <td>10.0</td>\n",
       "      <td>67.6</td>\n",
       "      <td>62.9</td>\n",
       "      <td>46.0</td>\n",
       "      <td>63.9</td>\n",
       "      <td>71.9</td>\n",
       "      <td>75.8</td>\n",
       "      <td>76.9</td>\n",
       "      <td>30.8</td>\n",
       "      <td>59.6</td>\n",
       "    </tr>\n",
       "    <tr>\n",
       "      <th>3</th>\n",
       "      <td>floortile</td>\n",
       "      <td>2.0</td>\n",
       "      <td>11.2</td>\n",
       "      <td>10.0</td>\n",
       "      <td>0.0</td>\n",
       "      <td>0.0</td>\n",
       "      <td>0.0</td>\n",
       "      <td>1.8</td>\n",
       "      <td>1.8</td>\n",
       "      <td>0.0</td>\n",
       "      <td>0.9</td>\n",
       "    </tr>\n",
       "    <tr>\n",
       "      <th>4</th>\n",
       "      <td>miconic</td>\n",
       "      <td>30.0</td>\n",
       "      <td>88.5</td>\n",
       "      <td>81.6</td>\n",
       "      <td>30.0</td>\n",
       "      <td>89.2</td>\n",
       "      <td>89.1</td>\n",
       "      <td>88.6</td>\n",
       "      <td>88.9</td>\n",
       "      <td>30.0</td>\n",
       "      <td>66.0</td>\n",
       "    </tr>\n",
       "    <tr>\n",
       "      <th>5</th>\n",
       "      <td>rovers</td>\n",
       "      <td>15.0</td>\n",
       "      <td>32.7</td>\n",
       "      <td>65.2</td>\n",
       "      <td>14.2</td>\n",
       "      <td>19.7</td>\n",
       "      <td>24.8</td>\n",
       "      <td>29.8</td>\n",
       "      <td>26.6</td>\n",
       "      <td>22.4</td>\n",
       "      <td>26.6</td>\n",
       "    </tr>\n",
       "    <tr>\n",
       "      <th>6</th>\n",
       "      <td>satellite</td>\n",
       "      <td>12.0</td>\n",
       "      <td>63.8</td>\n",
       "      <td>87.3</td>\n",
       "      <td>18.0</td>\n",
       "      <td>24.6</td>\n",
       "      <td>21.6</td>\n",
       "      <td>47.8</td>\n",
       "      <td>36.8</td>\n",
       "      <td>20.2</td>\n",
       "      <td>17.2</td>\n",
       "    </tr>\n",
       "    <tr>\n",
       "      <th>7</th>\n",
       "      <td>sokoban</td>\n",
       "      <td>27.0</td>\n",
       "      <td>26.3</td>\n",
       "      <td>29.8</td>\n",
       "      <td>24.3</td>\n",
       "      <td>28.3</td>\n",
       "      <td>30.0</td>\n",
       "      <td>34.7</td>\n",
       "      <td>34.7</td>\n",
       "      <td>26.7</td>\n",
       "      <td>28.4</td>\n",
       "    </tr>\n",
       "    <tr>\n",
       "      <th>8</th>\n",
       "      <td>spanner</td>\n",
       "      <td>30.0</td>\n",
       "      <td>30.0</td>\n",
       "      <td>30.0</td>\n",
       "      <td>32.0</td>\n",
       "      <td>30.0</td>\n",
       "      <td>33.0</td>\n",
       "      <td>70.0</td>\n",
       "      <td>70.0</td>\n",
       "      <td>28.9</td>\n",
       "      <td>47.9</td>\n",
       "    </tr>\n",
       "    <tr>\n",
       "      <th>9</th>\n",
       "      <td>transport</td>\n",
       "      <td>9.0</td>\n",
       "      <td>39.3</td>\n",
       "      <td>64.0</td>\n",
       "      <td>17.0</td>\n",
       "      <td>35.6</td>\n",
       "      <td>31.6</td>\n",
       "      <td>24.8</td>\n",
       "      <td>26.0</td>\n",
       "      <td>22.8</td>\n",
       "      <td>33.2</td>\n",
       "    </tr>\n",
       "    <tr>\n",
       "      <th>10</th>\n",
       "      <td>sum</td>\n",
       "      <td>152.0</td>\n",
       "      <td>393.5</td>\n",
       "      <td>492.7</td>\n",
       "      <td>232.4</td>\n",
       "      <td>354.5</td>\n",
       "      <td>374.6</td>\n",
       "      <td>471.2</td>\n",
       "      <td>442.8</td>\n",
       "      <td>213.4</td>\n",
       "      <td>304.8</td>\n",
       "    </tr>\n",
       "  </tbody>\n",
       "</table>\n",
       "</div>"
      ],
      "text/plain": [
       "         domain  blind   hff  lama  Muninn  g_max  g_mean   gpr  1svr  ∞svr  \\\n",
       "0   blocksworld    8.0  14.1  39.8    40.0   45.6    52.7  70.2  66.1  19.2   \n",
       "1    childsnack    9.0  20.1  22.0    11.0   17.6    19.9  27.8  15.1  12.6   \n",
       "2         ferry   10.0  67.6  62.9    46.0   63.9    71.9  75.8  76.9  30.8   \n",
       "3     floortile    2.0  11.2  10.0     0.0    0.0     0.0   1.8   1.8   0.0   \n",
       "4       miconic   30.0  88.5  81.6    30.0   89.2    89.1  88.6  88.9  30.0   \n",
       "5        rovers   15.0  32.7  65.2    14.2   19.7    24.8  29.8  26.6  22.4   \n",
       "6     satellite   12.0  63.8  87.3    18.0   24.6    21.6  47.8  36.8  20.2   \n",
       "7       sokoban   27.0  26.3  29.8    24.3   28.3    30.0  34.7  34.7  26.7   \n",
       "8       spanner   30.0  30.0  30.0    32.0   30.0    33.0  70.0  70.0  28.9   \n",
       "9     transport    9.0  39.3  64.0    17.0   35.6    31.6  24.8  26.0  22.8   \n",
       "10          sum  152.0 393.5 492.7   232.4  354.5   374.6 471.2 442.8 213.4   \n",
       "\n",
       "    2lwl  \n",
       "0   14.2  \n",
       "1   10.8  \n",
       "2   59.6  \n",
       "3    0.9  \n",
       "4   66.0  \n",
       "5   26.6  \n",
       "6   17.2  \n",
       "7   28.4  \n",
       "8   47.9  \n",
       "9   33.2  \n",
       "10 304.8  "
      ]
     },
     "metadata": {},
     "output_type": "display_data"
    }
   ],
   "source": [
    "print(\"TODO: find the floortile goose can solve\")\n",
    "\n",
    "for metric in [\n",
    "    \"solved\",\n",
    "    \"quality\",\n",
    "]:\n",
    "    scores_df = get_table_df(metric=metric)\n",
    "    scores = scores_df.to_numpy()\n",
    "    scores = scores[:, 1:]\n",
    "    display(scores_df)"
   ]
  },
  {
   "cell_type": "markdown",
   "metadata": {},
   "source": [
    "## Plots"
   ]
  },
  {
   "cell_type": "code",
   "execution_count": 41,
   "metadata": {},
   "outputs": [],
   "source": [
    "def plotall(metric, models, plot_reference_cost=True, log_yscale=True, ylim=None):\n",
    "    save_dir = f\"px/{metric}\"\n",
    "    os.makedirs(save_dir, exist_ok=True)\n",
    "\n",
    "    models = [rename(model) for model in models]\n",
    "\n",
    "    df = WHOLE_DF.copy()\n",
    "    df = df[df['model'].isin(models)]\n",
    "    for domain in IPC2023_LEARNING_DOMAINS:\n",
    "        df_domain = df[df['domain'] == domain]\n",
    "        fig = px.scatter(df_domain, x=\"problem\", y=metric, title=domain, color=\"model\", log_y=log_yscale, range_y=ylim, range_x=(0, 90))\n",
    "        \n",
    "        if plot_reference_cost:\n",
    "            # otherwise, will loop the line around\n",
    "            df_line = df_domain[df_domain['model'] == models[0]]\n",
    "            reference_line = px.line(df_line, x=\"problem\", y=\"c_opt\", color_discrete_sequence=['black'], log_y=log_yscale)\n",
    "            fig = go.Figure(data=fig.data + reference_line.data, layout=fig.layout)\n",
    "\n",
    "        # fig.show()\n",
    "        fig.write_html(f\"{save_dir}/{domain}.html\")\n",
    "        for plot_dir in _PLOT_DIRS:\n",
    "            paper_save_dir = f\"{plot_dir}/{metric}\"\n",
    "            os.makedirs(paper_save_dir, exist_ok=True)\n",
    "            fig.write_image(f\"{paper_save_dir}/{domain}.pdf\")"
   ]
  },
  {
   "cell_type": "code",
   "execution_count": 42,
   "metadata": {},
   "outputs": [],
   "source": [
    "def plot_versus(model_x, model_y, metric):\n",
    "    if metric == \"expanded\":\n",
    "        max_metric = PLOT_MAX_EXPANDED\n",
    "        log_scale = True\n",
    "    elif metric == \"cost\":\n",
    "        max_metric = PLOT_MAX_COST\n",
    "        log_scale = True\n",
    "    else:\n",
    "        raise NotImplementedError(metric)\n",
    "\n",
    "    save_dir = f\"px/versus_{metric}\"\n",
    "    os.makedirs(save_dir, exist_ok=True)\n",
    "\n",
    "    d = {\"domain\": [], plot_rename(model_x): [], plot_rename(model_y): []}\n",
    "    for domain in IPC2023_LEARNING_DOMAINS:\n",
    "        data = get_data(domain)\n",
    "        for i in range(90):\n",
    "            for model in [model_x, model_y]:\n",
    "                if i >= len(data[model][\"solved\"]) or not data[model][\"solved\"][i]:\n",
    "                    val = max_metric\n",
    "                else:\n",
    "                    val = data[model][metric][i]\n",
    "                d[plot_rename(model)].append(val)\n",
    "            d[\"domain\"].append(domain)\n",
    "    df = pd.DataFrame(data=d)\n",
    "    diagonal = px.line(x=[1, max_metric], y=[1, max_metric], color_discrete_sequence=[\"gray\"], line_dash_sequence=['dash'])\n",
    "    h = px.line(x=[max_metric, max_metric], y=[1, max_metric], color_discrete_sequence=[\"gray\"], line_dash_sequence=['dash'])\n",
    "    v = px.line(x=[1, max_metric], y=[max_metric, max_metric], color_discrete_sequence=[\"gray\"], line_dash_sequence=['dash'])\n",
    "    scatter = px.scatter(\n",
    "        df,\n",
    "        x=plot_rename(model_x),\n",
    "        y=plot_rename(model_y),\n",
    "        color=\"domain\",\n",
    "        symbol=\"domain\",\n",
    "        log_x=log_scale,\n",
    "        log_y=log_scale,\n",
    "        range_x=(log_scale, max_metric * 2),\n",
    "        range_y=(log_scale, max_metric * 2),\n",
    "    )\n",
    "    fig = go.Figure(diagonal.data + h.data + v.data + scatter.data, layout=scatter.layout)\n",
    "    # fig = go.Figure(diagonal.data + scatter.data, layout=scatter.layout)\n",
    "    fig.write_html(f\"{save_dir}/{model_x}_vs_{model_y}.html\")\n",
    "\n",
    "    # fig.update_layout(margin=dict(l=20, r=20, t=20, b=20))\n",
    "    R = 300\n",
    "    fig.update_layout(\n",
    "        # autosize=False,\n",
    "        width=R,  # You can adjust the width as needed\n",
    "        height=R,  # You can adjust the height as needed\n",
    "        showlegend=False,\n",
    "        # aspectratio=dict(x=1, y=1)\n",
    "    )\n",
    "    fig.update_xaxes(nticks=5)\n",
    "    fig.update_yaxes(nticks=5)\n",
    "    # fig.update_traces(opacity=.75)\n",
    "    fig.update_layout(template='simple_white')\n",
    "\n",
    "    for plot_dir in _PLOT_DIRS:\n",
    "        save_dir = f\"{plot_dir}/versus_{metric}\"\n",
    "        os.makedirs(save_dir, exist_ok=True)\n",
    "        fig.write_image(f\"{save_dir}/{model_x}_vs_{model_y}.pdf\")"
   ]
  },
  {
   "cell_type": "markdown",
   "metadata": {},
   "source": [
    "### Versus"
   ]
  },
  {
   "cell_type": "code",
   "execution_count": 43,
   "metadata": {},
   "outputs": [],
   "source": [
    "metrics = [\"expanded\", \"cost\"]\n",
    "pairs = [\n",
    "    (GOOSE_MEAN, GOOSE_MAX),\n",
    "    # (\"1wl_1\", \"2lwl_1\"),\n",
    "    # (MQ_SVR, SVR_1),\n",
    "    # (MQ_SVR, LAMA),\n",
    "    # (MQ_GPR, LAMA),\n",
    "    (SVR_1, GOOSE_MEAN),\n",
    "    (SVR_1, HFF),\n",
    "    (SVR_1, LWL_2),\n",
    "    (GPR, GOOSE_MEAN),\n",
    "    (GPR, HFF),\n",
    "    # (\"1wl_1\", \"1wl_4\"),\n",
    "    # (\"2lwl_1\", \"2lwl_4\"),\n",
    "    # (GOOSE_LLG_CPU, \"gI4mean\"),\n",
    "]\n",
    "for metric, (mx, my) in product(metrics, pairs):\n",
    "    plot_versus(model_x=mx, model_y=my, metric=metric)"
   ]
  },
  {
   "cell_type": "code",
   "execution_count": 44,
   "metadata": {},
   "outputs": [
    {
     "data": {
      "text/plain": [
       "<Figure size 640x480 with 0 Axes>"
      ]
     },
     "metadata": {},
     "output_type": "display_data"
    }
   ],
   "source": [
    "\"\"\" ICAPS version \"\"\"\n",
    "def plot_versus_icaps(model_x, model_y, metric):\n",
    "    if metric == \"expanded\":\n",
    "        max_metric = PLOT_MAX_EXPANDED\n",
    "        log_scale = True\n",
    "    elif metric == \"cost\":\n",
    "        max_metric = PLOT_MAX_COST\n",
    "        log_scale = True\n",
    "    else:\n",
    "        raise NotImplementedError(metric)\n",
    "    \n",
    "    plt.rcParams.update({'font.size': 20})\n",
    "    plt.plot([1, max_metric], [1,max_metric], c='k', alpha=0.9, linestyle=\"dotted\")\n",
    "    plt.plot([max_metric, max_metric], [1,max_metric], c='k', alpha=0.9, linestyle=\"dotted\")\n",
    "    plt.plot([1, max_metric], [max_metric,max_metric], c='k', alpha=0.9, linestyle=\"dotted\")\n",
    "\n",
    "    for domain in IPC2023_LEARNING_DOMAINS:\n",
    "        d = {model_x: [], model_y: []}\n",
    "        data = get_data(domain)\n",
    "        for i in range(90):\n",
    "            for model in [model_x, model_y]:\n",
    "                if i >= len(data[model][\"solved\"]) or not data[model][\"solved\"][i]:\n",
    "                    val = max_metric\n",
    "                else:\n",
    "                    val = data[model][metric][i]\n",
    "                d[model].append(val)\n",
    "        \n",
    "        plt.scatter(d[model_x], d[model_y], label=domain, alpha=0.7)\n",
    "\n",
    "    if log_scale:\n",
    "        plt.xscale(\"log\")\n",
    "        plt.yscale(\"log\")\n",
    "    plt.title(metric)\n",
    "    plt.gca().xaxis.set_major_locator(plt.LogLocator(base=10, numticks=5))\n",
    "    plt.gca().yaxis.set_major_locator(plt.LogLocator(base=10, numticks=5))\n",
    "    plt.xlabel(LATEX_RENAME[model_x])\n",
    "    plt.ylabel(LATEX_RENAME[model_y])\n",
    "    plt.xlim((1, max_metric*2))\n",
    "    plt.ylim((1, max_metric*2))\n",
    "    # plt.legend(bbox_to_anchor=(1, 1), loc='upper left')\n",
    "    ax = plt.gca()\n",
    "    ax.set_aspect('equal', adjustable='box')\n",
    "    # plt.show()\n",
    "    plt.savefig(f\"{_ICAPS_PLOT_DIR}/{metric}_{model_x}_vs_{model_y}.pdf\", bbox_inches=\"tight\")\n",
    "    plt.clf()\n",
    "    return \n",
    "\n",
    "metrics = [\"expanded\", \"cost\"]\n",
    "pairs = [\n",
    "    # (MQ_GPR, GPR),\n",
    "    # (MQ_GPR, MIP),\n",
    "    # (MQ_GPR, HFF),\n",
    "    (GPR, HFF),\n",
    "]\n",
    "for metric, (mx, my) in product(metrics, pairs):\n",
    "    plot_versus_icaps(model_x=mx, model_y=my, metric=metric)"
   ]
  },
  {
   "cell_type": "markdown",
   "metadata": {},
   "source": [
    "### Interactive plotly plots "
   ]
  },
  {
   "cell_type": "code",
   "execution_count": 45,
   "metadata": {},
   "outputs": [],
   "source": [
    "for metric, max_metric in [\n",
    "    (\"expanded\", PLOT_MAX_EXPANDED),\n",
    "    (\"cost\", PLOT_MAX_COST),\n",
    "]:\n",
    "    plotall(\n",
    "        metric,\n",
    "        ylim=(1, max_metric),\n",
    "        models=[\n",
    "            BLIND,\n",
    "            HFF,\n",
    "            GOOSE_MAX,\n",
    "            GOOSE_MEAN,\n",
    "            GPR,\n",
    "            SVR_1,\n",
    "            SVR_inf,\n",
    "            LWL_2,\n",
    "        ],\n",
    "    )"
   ]
  },
  {
   "cell_type": "markdown",
   "metadata": {},
   "source": [
    "### ICAPS cum plots"
   ]
  },
  {
   "cell_type": "code",
   "execution_count": 46,
   "metadata": {},
   "outputs": [
    {
     "data": {
      "image/png": "[encoded data removed]",
      "text/plain": [
       "<Figure size 640x480 with 1 Axes>"
      ]
     },
     "metadata": {},
     "output_type": "display_data"
    }
   ],
   "source": [
    "MODELS_TO_SHOW = [\n",
    "    BLIND,\n",
    "    HFF,\n",
    "    MUNINN,\n",
    "    GOOSE_MAX,\n",
    "    GOOSE_MEAN,\n",
    "    SVR_1,\n",
    "    SVR_inf,\n",
    "    LWL_2,\n",
    "    GPR,\n",
    "    # MQ_GPR,\n",
    "]\n",
    "\n",
    "plt.rcParams.update({'font.size': CUM_SIZE})\n",
    "\n",
    "def ecdf(data):\n",
    "    sorted_data = np.sort(data)\n",
    "    y = np.arange(1, len(data) + 1)\n",
    "    return sorted_data, y\n",
    "\n",
    "for model in MODELS_TO_SHOW:\n",
    "    latex_version = LATEX_RENAME[model]\n",
    "    df = WHOLE_DF.copy()\n",
    "    df = df[df[\"model\"] == rename(model)]\n",
    "    df = df[df[\"solved\"] == 1]\n",
    "    data = df[\"time\"].values\n",
    "    x, y = ecdf(data)\n",
    "    plt.plot(x, y, label=latex_version, linestyle=linestyle(model))\n",
    "\n",
    "# plt.legend(bbox_to_anchor=(1, 1), loc='upper left')\n",
    "plt.grid(True)\n",
    "plt.xlim((1, 1800))\n",
    "plt.xscale(\"log\")\n",
    "# plt.title(\"cumulative runtime\")\n",
    "plt.ylabel(\"solved\")\n",
    "plt.xlabel(\"runtime (s)\")\n",
    "plt.savefig(f\"{_ICAPS_PLOT_DIR}/cumulative_runtime.pdf\", bbox_inches=\"tight\")\n",
    "\n",
    "plt.legend(bbox_to_anchor=(1, 1), loc='upper left')\n",
    "plt.savefig(f\"{_ICAPS_PLOT_DIR}/cumulative_legend.pdf\", bbox_inches=\"tight\")"
   ]
  },
  {
   "cell_type": "code",
   "execution_count": 47,
   "metadata": {},
   "outputs": [
    {
     "data": {
      "image/png": "[encoded data removed]",
      "text/plain": [
       "<Figure size 640x480 with 1 Axes>"
      ]
     },
     "metadata": {},
     "output_type": "display_data"
    }
   ],
   "source": [
    "for model in MODELS_TO_SHOW:\n",
    "    latex_version = LATEX_RENAME[model]\n",
    "    df = WHOLE_DF.copy()\n",
    "    df = df[df[\"model\"] == rename(model)]\n",
    "    df = df[df[\"solved\"] == 1]\n",
    "    data = df[\"expanded\"].values\n",
    "    x, y = ecdf(data)\n",
    "    plt.plot(x, y, label=latex_version, linestyle=linestyle(model))\n",
    "\n",
    "# plt.legend(bbox_to_anchor=(1, 1), loc='upper left')\n",
    "plt.grid(True)\n",
    "# plt.xlim((1, 1800))\n",
    "plt.xscale(\"log\")\n",
    "# plt.title(\"cumulative expanded\")\n",
    "plt.ylabel(\"solved\")\n",
    "plt.xlabel(\"expanded\")\n",
    "plt.savefig(f\"{_ICAPS_PLOT_DIR}/cumulative_expanded.pdf\", bbox_inches=\"tight\")\n",
    "plt.show()"
   ]
  },
  {
   "cell_type": "markdown",
   "metadata": {},
   "source": [
    "### Bayesian s.t.d. vs other metrics table"
   ]
  },
  {
   "cell_type": "code",
   "execution_count": 48,
   "metadata": {},
   "outputs": [],
   "source": [
    "df = WHOLE_DF.copy()\n",
    "df = df[df[\"model\"] == rename(GPR)]\n",
    "df = df[df[\"solved\"] == 1]\n",
    "# df[\"ratio_seen_colours\"] = np.tan((np.pi / 2) * df[\"ratio_seen_colours\"])\n",
    "df[\"ratio_seen_colours\"] = 1 - df[\"ratio_seen_colours\"]\n",
    "datas = {}\n",
    "\n",
    "diffs = DIFFICULTIES + [\"all\"]\n",
    "\n",
    "for metric in [\n",
    "    \"c_opt_min\",\n",
    "    \"expanded\",\n",
    "    # \"ratio_seen_colours\",\n",
    "]:\n",
    "    d = {\n",
    "        \"domain\": [],\n",
    "        \"easy\": [],\n",
    "        \"medium\": [],\n",
    "        \"hard\": [],\n",
    "        \"all\": [],\n",
    "    }\n",
    "    all_x = {k: [] for k in diffs}\n",
    "    all_y = {k: [] for k in diffs}\n",
    "    for domain in IPC2023_LEARNING_DOMAINS:\n",
    "        d[\"domain\"].append(domain)\n",
    "        df_domain = df[df[\"domain\"] == domain]\n",
    "        for difficulty in diffs:\n",
    "            if difficulty == \"all\":\n",
    "                df_diff = df_domain\n",
    "            else:\n",
    "                df_diff = df_domain[df_domain[\"difficulty\"] == difficulty]\n",
    "            x = df_diff[\"std\"].values\n",
    "            y = df_diff[metric].values\n",
    "            # if metric == \"ratio_seen_colours\":\n",
    "            #     x = np.log(x)\n",
    "            all_x[difficulty].append(x)\n",
    "            all_y[difficulty].append(y)\n",
    "            if len(x) < 5:\n",
    "                coef = 0\n",
    "                pvalue = 0\n",
    "                size = 0\n",
    "                d[difficulty].append(\"na\")\n",
    "            else:\n",
    "                result = scipy.stats.pearsonr(x, y)\n",
    "                coef = result.statistic\n",
    "                pvalue = int(result.pvalue < 0.05)\n",
    "                size = len(x)\n",
    "                d[difficulty].append((coef, pvalue, size))\n",
    "\n",
    "    d[\"domain\"].append(\"all\")\n",
    "    for difficulty in diffs:\n",
    "        x = np.hstack(all_x[difficulty])\n",
    "        y = np.hstack(all_y[difficulty])\n",
    "        result = scipy.stats.pearsonr(x, y)\n",
    "        coef = result.statistic\n",
    "        pvalue = int(result.pvalue < 0.05)\n",
    "        size = len(x)\n",
    "        d[difficulty].append((coef, pvalue, size))\n",
    "\n",
    "    exp_corr_df = pd.DataFrame(d)\n",
    "    datas[metric] = exp_corr_df.values\n",
    "    # display(exp_corr_df)\n",
    "\n",
    "\n",
    "ret = \"\"\n",
    "for i, domain in enumerate(IPC2023_LEARNING_DOMAINS):\n",
    "    # for i, domain in enumerate(IPC2023_LEARNING_DOMAINS + [\"all\"]):\n",
    "    if domain != \"all\":\n",
    "        ret += domain\n",
    "    else:\n",
    "        ret += r\"\\emph{all}\"\n",
    "    for data in datas.values():\n",
    "        for j in range(1, 1 + len(diffs)):\n",
    "            entry = data[i][j]\n",
    "            if entry == \"na\":\n",
    "                to_add = r\"\\multicolumn{1}{c}{-}\"\n",
    "            else:\n",
    "                coef = entry[0]\n",
    "                coef = f\"{coef:.2f}\"\n",
    "                # coef = coef.replace(\"1.0\", \"1.\")\n",
    "                # coef = coef.replace(\"0.\", \".\")\n",
    "                if entry[0] > 0:\n",
    "                    coef = f\"+{coef}\"\n",
    "                if abs(entry[0]) >= 0.5:\n",
    "                    coef = r\"\\highcorr{\" + coef + r\"}\"\n",
    "                elif abs(entry[0]) >= 0.3:\n",
    "                    coef = r\"\\medcorr{\" + coef + r\"}\"\n",
    "                else:\n",
    "                    coef = r\"\\lowcorr{\" + coef + r\"}\"\n",
    "                if entry[1]:\n",
    "                    to_add = r\"\\significant{\" + coef + r\"}\"\n",
    "                else:\n",
    "                    to_add = r\"\\notsignificant{\" + coef + r\"}\"\n",
    "\n",
    "            ret += \" & \" + to_add\n",
    "    ret += r\"\\\\\" + \"\\n\"\n",
    "    # if domain == IPC2023_LEARNING_DOMAINS[-1]:\n",
    "    #     ret += r\"\\midrule\" + '\\n'\n",
    "ret += r\"\\bottomrule\" + \"\\n\"\n",
    "\n",
    "with open(f\"{_ICAPS_PAPER_DIR}/tables/correlation.tex\", \"w\") as f:\n",
    "    f.write(ret)"
   ]
  },
  {
   "cell_type": "markdown",
   "metadata": {},
   "source": [
    "### Hit WL colours"
   ]
  },
  {
   "cell_type": "code",
   "execution_count": 49,
   "metadata": {},
   "outputs": [],
   "source": [
    "ret = {\"domain\": [], \"model\": [], \"problem\": [], \"ratio\": [], \"itr\": []}\n",
    "\n",
    "ITRS = 4\n",
    "for model, domain in product(WLS, IPC2023_LEARNING_DOMAINS):\n",
    "    for diff_i, difficulty in enumerate(DIFFICULTIES):\n",
    "        for prob_i, pf_name in enumerate(PROBLEM_INDICES):\n",
    "            pf = f\"../benchmarks/ipc2023-learning-benchmarks/{domain}/testing/{difficulty}/{pf_name}.pddl\"\n",
    "            assert os.path.exists(pf)\n",
    "            desc = model\n",
    "            log_file = f\"icaps24_test_logs/{domain}_{difficulty}_{pf_name}_ilg_{desc}_H.log\"\n",
    "\n",
    "            if not os.path.exists(log_file):\n",
    "                continue\n",
    "\n",
    "            tmp = {}\n",
    "\n",
    "            for line in open(log_file, \"r\").readlines():\n",
    "\n",
    "                if \"seen/unseen colours in itr\" in line:\n",
    "                    line = line.replace(\":\", \"\")\n",
    "                    toks = line.split()\n",
    "                    itr = int(toks[-3])\n",
    "                    seen = int(toks[-2])\n",
    "                    unseen = int(toks[-1])\n",
    "                    ratio = seen / (seen + unseen)\n",
    "                    tmp[itr] = ratio\n",
    "                \n",
    "            if len(tmp) == ITRS:\n",
    "                for itr, ratio in tmp.items():\n",
    "                    ret[\"domain\"].append(domain)\n",
    "                    ret[\"model\"].append(rename(model))\n",
    "                    ret[\"problem\"].append(30 * diff_i + prob_i)\n",
    "                    ret[\"ratio\"].append(ratio)\n",
    "                    ret[\"itr\"].append(itr+1)\n",
    "\n",
    "RATIO_DF = pd.DataFrame(data=ret)"
   ]
  },
  {
   "cell_type": "code",
   "execution_count": 50,
   "metadata": {},
   "outputs": [],
   "source": [
    "def plot_ratio(model):\n",
    "    save_dir = f\"px/ratio\"\n",
    "    os.makedirs(save_dir, exist_ok=True)\n",
    "    model = rename(model)\n",
    "\n",
    "    df = RATIO_DF.copy()\n",
    "    df = df[df['model']==model]\n",
    "    for domain in IPC2023_LEARNING_DOMAINS:\n",
    "        df_domain = df[df['domain'] == domain]\n",
    "        fig = px.scatter(df_domain, x=\"problem\", y=\"ratio\", title=f\"{model}_{domain}\", color=\"itr\", range_y=(0, 1), range_x=(0, 90))\n",
    "        \n",
    "        # fig.show()\n",
    "        fig.write_html(f\"{save_dir}/{model}_{domain}.html\")\n",
    "        plt.clf()"
   ]
  },
  {
   "cell_type": "code",
   "execution_count": 51,
   "metadata": {},
   "outputs": [
    {
     "data": {
      "text/plain": [
       "<Figure size 640x480 with 0 Axes>"
      ]
     },
     "metadata": {},
     "output_type": "display_data"
    }
   ],
   "source": [
    "plot_ratio(model=SVR_1)\n",
    "plot_ratio(model=SVR_2)\n",
    "plot_ratio(model=SVR_3)\n",
    "plot_ratio(model=SVR_inf)"
   ]
  },
  {
   "cell_type": "markdown",
   "metadata": {},
   "source": [
    "## More refined data"
   ]
  },
  {
   "cell_type": "code",
   "execution_count": 52,
   "metadata": {},
   "outputs": [],
   "source": [
    "def get_metrics_df(data, models=None):\n",
    "  d = {\n",
    "    \"config\": [],\n",
    "    \"quality\": [],\n",
    "    \"solved\": [],\n",
    "    \"tried\": [],\n",
    "    \"e_quality\": [],\n",
    "    \"e_solved\": [],\n",
    "    \"e_tried\": [],\n",
    "    \"m_quality\": [],\n",
    "    \"m_solved\": [],\n",
    "    \"m_tried\": [],\n",
    "    \"h_quality\": [],\n",
    "    \"h_solved\": [],\n",
    "    \"h_tried\": [],\n",
    "  }\n",
    "  if models is None:\n",
    "    models = _MODELS\n",
    "  for config in models:\n",
    "    d[\"config\"].append(config)\n",
    "    d[\"quality\"].append(sum(data[config][\"quality\"]))\n",
    "    d[\"solved\"].append(sum(data[config][\"solved\"]))\n",
    "    d[\"tried\"].append(len(data[config][\"solved\"]))\n",
    "    for difficulty in DIFFICULTIES:\n",
    "      quality = 0\n",
    "      solved = 0\n",
    "      tried = 0\n",
    "      for i, prob_solved in enumerate(data[config][\"solved\"]):\n",
    "        if data[config][\"difficulty\"][i] == difficulty:\n",
    "          quality += data[config][\"quality\"][i]\n",
    "          solved += prob_solved\n",
    "          tried += data[config][\"tried\"][i]\n",
    "      d[f\"{difficulty[0]}_quality\"].append(quality)\n",
    "      d[f\"{difficulty[0]}_solved\"].append(solved)\n",
    "      d[f\"{difficulty[0]}_tried\"].append(tried)\n",
    "  return pd.DataFrame(d)"
   ]
  },
  {
   "cell_type": "code",
   "execution_count": 53,
   "metadata": {},
   "outputs": [],
   "source": [
    "# for domain in IPC2023_LEARNING_DOMAINS:\n",
    "#     print(domain)\n",
    "#     df = get_metrics_df(get_data(domain))\n",
    "#     display(df)"
   ]
  },
  {
   "cell_type": "markdown",
   "metadata": {},
   "source": [
    "# To ICAPS24 latex table"
   ]
  },
  {
   "cell_type": "code",
   "execution_count": 54,
   "metadata": {},
   "outputs": [],
   "source": [
    "def convert_map_to_latex_script_input(input):\n",
    "    ret = {}\n",
    "    for k, v in input.items():\n",
    "        ret[rename(k)] = v\n",
    "    return ret"
   ]
  },
  {
   "cell_type": "code",
   "execution_count": 55,
   "metadata": {},
   "outputs": [],
   "source": [
    "def get_icaps_df(metric, models):\n",
    "    df = WHOLE_DF.copy()\n",
    "    df = df[df[\"model\"].isin(set(models))]\n",
    "    df = df.groupby([\"model\", \"domain\"]).agg({metric: \"sum\"}).reset_index()\n",
    "    df = df.pivot_table(index=\"domain\", columns=\"model\", values=metric, aggfunc=\"sum\", fill_value=0)\n",
    "    column_order = models\n",
    "    df = df[column_order]\n",
    "    df = df.reset_index()\n",
    "    df.loc[len(df)] = df.select_dtypes(include='number').sum()\n",
    "    df = df.fillna(\"sum\")\n",
    "    return df"
   ]
  },
  {
   "cell_type": "code",
   "execution_count": 56,
   "metadata": {},
   "outputs": [],
   "source": [
    "def display_tex_score(score, sorted_values, isfloat, comparison_score, last_row):\n",
    "    def to_string(val):\n",
    "        if isfloat:\n",
    "            return f\"{val:.1f}\"\n",
    "        else:\n",
    "            return f\"{val:d}\"\n",
    "\n",
    "    display_score = to_string(score)\n",
    "    if score == 0:\n",
    "        display_score = \"-\"\n",
    "\n",
    "    display_comparison_score = \"\"\n",
    "    if comparison_score is not None:\n",
    "        diff = abs(comparison_score - score)\n",
    "        if comparison_score > score:\n",
    "            display_comparison_score = f\" (-{to_string(diff)})\"\n",
    "        elif comparison_score < score:\n",
    "            display_comparison_score = f\" (+{to_string(diff)})\"\n",
    "        else:\n",
    "            display_comparison_score = f\"\"  # no change\n",
    "        # if last_row:\n",
    "        #     display_comparison_score = display_comparison_score.replace(\" \", \"\")\n",
    "\n",
    "    if score == sorted_values[0]:\n",
    "        macro = r\"\\first\"\n",
    "    elif score == sorted_values[1]:\n",
    "        macro = r\"\\second\"\n",
    "    elif score == sorted_values[2]:\n",
    "        macro = r\"\\third\"\n",
    "    else:\n",
    "        macro = r\"\\normalcell\"\n",
    "\n",
    "    return macro + \"{\" + display_score + \"}\" + \"{\" + display_comparison_score + \"}\""
   ]
  },
  {
   "cell_type": "code",
   "execution_count": 57,
   "metadata": {},
   "outputs": [],
   "source": [
    "def to_latex(\n",
    "    version,\n",
    "    model_dict,\n",
    "    metric,\n",
    "    comparison_dict=None,\n",
    "    to_add=\"\",\n",
    "    tabularx=False,\n",
    "):\n",
    "    \"\"\"summarised\"\"\"\n",
    "    summarised_models = convert_map_to_latex_script_input(model_dict)\n",
    "\n",
    "    df = get_icaps_df(metric=metric, models=list(summarised_models.keys()))\n",
    "    data = df.values\n",
    "\n",
    "    domain_width = \"l \"\n",
    "    model_width = \"c \"\n",
    "\n",
    "    if tabularx:\n",
    "        # domain_width = \"X\"\n",
    "        model_width = \"Y\"\n",
    "\n",
    "        ret = r\"\\begin{tabularx}{\" + tabularx + r\"}{\"\n",
    "    else:\n",
    "        ret = r\"\\begin{tabular}{\"\n",
    "\n",
    "    ret += domain_width\n",
    "\n",
    "    ret += \" \".join([model_width for _ in range(len(summarised_models))]) + r\"} \\toprule \" + \"\\n\"\n",
    "\n",
    "    ret += to_add\n",
    "\n",
    "    ret += \"Domain \\n\"\n",
    "\n",
    "    for model in summarised_models.values():\n",
    "        ret += f\"& \\\\header{{\\{model.replace('-', '')}}} \\n\"\n",
    "    ret += r\"\\\\ \\midrule\" + \"\\n\"\n",
    "\n",
    "    model_to_idx = {}\n",
    "    for i, model in enumerate(model_dict.keys()):\n",
    "        model_to_idx[model] = i\n",
    "\n",
    "    comparison_idx = {}\n",
    "    if comparison_dict is not None:\n",
    "        for k, v in comparison_dict.items():\n",
    "            comparison_idx[model_to_idx[k]] = model_to_idx[v]\n",
    "\n",
    "    for row in data:\n",
    "        domain = row[0]\n",
    "        values = row[1:].astype(float)\n",
    "        if metric == \"solved\":\n",
    "            isfloat = False\n",
    "            values = values.astype(int)\n",
    "        elif metric == \"quality\":\n",
    "            isfloat = True\n",
    "            values = np.round(values, 1)\n",
    "\n",
    "        sorted_values = sorted(values, reverse=True)\n",
    "\n",
    "        ret += f\"{domain}\\n\"\n",
    "\n",
    "        for idx, score in enumerate(values):\n",
    "            comparison_score = None\n",
    "            if idx in comparison_idx:\n",
    "                comparison_score = values[comparison_idx[idx]]\n",
    "            ret += f\"& {display_tex_score(score, sorted_values, isfloat, comparison_score, last_row=(domain=='sum'))} \"\n",
    "        ret += r\"\\\\ \" + \"\\n\"\n",
    "\n",
    "        if domain == IPC2023_LEARNING_DOMAINS[-1]:\n",
    "            ret += r\"\\midrule\" + \"\\n\"\n",
    "\n",
    "    ret += r\"\\bottomrule\"\n",
    "    if tabularx:\n",
    "        ret += r\"\\end{tabularx}\"\n",
    "    else:\n",
    "        ret += r\"\\end{tabular}\"\n",
    "\n",
    "    f = open(f\"{_ICAPS_PAPER_DIR}/tables/{version}_{metric}.tex\", \"w\")\n",
    "    f.write(ret)\n",
    "    f.close()"
   ]
  },
  {
   "cell_type": "code",
   "execution_count": 58,
   "metadata": {},
   "outputs": [],
   "source": [
    "version = \"summarised\"\n",
    "model_dict = {\n",
    "    BLIND: \"blind\",\n",
    "    HFF: \"ff\",\n",
    "    MUNINN: \"muninn\",\n",
    "    GOOSE_MAX: \"gooseMax\",\n",
    "    GOOSE_MEAN: \"gooseMean\",\n",
    "    SVR_1: \"svrOne\",\n",
    "    SVR_inf: \"svrInf\",\n",
    "    LWL_2: \"lwlTwo\",\n",
    "    GPR: \"gprNew\",\n",
    "}\n",
    "to_latex(\n",
    "    version,\n",
    "    model_dict,\n",
    "    metric=\"solved\",\n",
    "    tabularx=r\"\\columnwidth\",  #\"\\half\\textwidth\",\n",
    ")\n",
    "to_latex(\n",
    "    version,\n",
    "    model_dict,\n",
    "    metric=\"quality\",\n",
    "    tabularx=r\"\\columnwidth\",  #\"\\half\\textwidth\",\n",
    ")"
   ]
  },
  {
   "cell_type": "code",
   "execution_count": null,
   "metadata": {},
   "outputs": [],
   "source": []
  }
 ],
 "metadata": {
  "kernelspec": {
   "display_name": "torch",
   "language": "python",
   "name": "python3"
  },
  "language_info": {
   "codemirror_mode": {
    "name": "ipython",
    "version": 3
   },
   "file_extension": ".py",
   "mimetype": "text/x-python",
   "name": "python",
   "nbconvert_exporter": "python",
   "pygments_lexer": "ipython3",
   "version": "3.10.4"
  },
  "orig_nbformat": 4
 },
 "nbformat": 4,
 "nbformat_minor": 2
}
