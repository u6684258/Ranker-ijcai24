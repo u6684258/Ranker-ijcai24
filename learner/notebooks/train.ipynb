{
 "cells": [
  {
   "cell_type": "code",
   "execution_count": 5,
   "metadata": {},
   "outputs": [],
   "source": [
    "import plotly.express as px\n",
    "import plotly.graph_objects as go\n",
    "import os\n",
    "import pandas as pd\n",
    "import matplotlib.pyplot as plt\n",
    "import seaborn as sns\n",
    "import scipy\n",
    "import pickle\n",
    "import datetime\n",
    "import numpy as np\n",
    "from dataset.ipc2023_learning_domain_info import IPC2023_LEARNING_DOMAINS, DIFFICULTIES, PROBLEM_INDICES\n",
    "from itertools import product\n",
    "from IPython.display import display, HTML\n",
    "from util.scrape_log import scrape_search_log\n",
    "from pathlib import Path"
   ]
  },
  {
   "cell_type": "code",
   "execution_count": 7,
   "metadata": {},
   "outputs": [
    {
     "name": "stdout",
     "output_type": "stream",
     "text": [
      "blocksworld\n",
      "0.0000 0.2415\n",
      "1.0000 0.6878\n",
      "childsnack\n",
      "0.3617 0.3085\n",
      "0.5442 0.5707\n",
      "ferry\n",
      "0.0124 0.1040\n",
      "0.9952 0.8503\n",
      "floortile\n",
      "0.4033 1.3403\n",
      "0.5945 0.3696\n",
      "miconic\n",
      "0.7611 0.7363\n",
      "0.3391 0.3814\n",
      "rovers\n",
      "0.1099 0.7228\n",
      "0.9004 0.5013\n",
      "satellite\n",
      "0.0024 0.2679\n",
      "0.9971 0.6746\n",
      "sokoban\n",
      "51.0330 50.3868\n",
      "0.0238 0.0283\n",
      "spanner\n",
      "1.6272 1.5726\n",
      "0.2817 0.2719\n",
      "transport\n",
      "0.0128 1.3519\n",
      "0.9921 0.3185\n"
     ]
    }
   ],
   "source": [
    "for domain in IPC2023_LEARNING_DOMAINS:\n",
    "    f = f\"icaps24_train_logs/{domain}_ilg2_1wl_4_0_gp_none_H.log\"\n",
    "    print(domain)\n",
    "    for line in open(f, 'r').readlines():\n",
    "        toks = line.split()\n",
    "        if \"_all_\" in line and len(toks) == 3:\n",
    "            print(toks[1], toks[2])"
   ]
  },
  {
   "cell_type": "code",
   "execution_count": null,
   "metadata": {},
   "outputs": [],
   "source": []
  }
 ],
 "metadata": {
  "language_info": {
   "name": "python"
  }
 },
 "nbformat": 4,
 "nbformat_minor": 2
}
