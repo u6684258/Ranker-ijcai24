{
 "cells": [
  {
   "cell_type": "code",
   "execution_count": 1,
   "metadata": {},
   "outputs": [],
   "source": [
    "import matplotlib.pyplot as plt\n",
    "import plotly.express as px\n",
    "import os\n",
    "import pandas as pd\n",
    "from dataset.ipc2023_learning_domain_info import IPC2023_LEARNING_DOMAINS, DIFFICULTIES, PROBLEM_INDICES\n",
    "from itertools import product"
   ]
  },
  {
   "cell_type": "code",
   "execution_count": 2,
   "metadata": {},
   "outputs": [],
   "source": [
    "save_dir = \"px/uncertainty\"\n",
    "os.makedirs(save_dir, exist_ok=True)"
   ]
  },
  {
   "cell_type": "code",
   "execution_count": 3,
   "metadata": {},
   "outputs": [],
   "source": [
    "diff_to_int = {\n",
    "    \"easy\": 0,\n",
    "    \"medium\": 1,\n",
    "    \"hard\": 2,\n",
    "}\n",
    "\n",
    "KEYS = {\"domain\", \"ratio\", \"std\", \"h\", \"prob\"}\n",
    "\n",
    "stats = {k:[] for k in KEYS}\n",
    "for domain in IPC2023_LEARNING_DOMAINS:\n",
    "    for difficulty, problem in product(DIFFICULTIES, PROBLEM_INDICES):\n",
    "        f = f\"icaps24_gp_correlation_logs/{domain}_{difficulty}_{problem}_gp.log\"\n",
    "        if not os.path.exists(f):\n",
    "            continue\n",
    "\n",
    "        with open(f, \"r\") as file:\n",
    "            start = False\n",
    "            for line in file.readlines():\n",
    "                if \"Number of unseen\" in line:\n",
    "                    start = True\n",
    "                    continue\n",
    "\n",
    "                if start:\n",
    "                    toks = line.split()\n",
    "                    if len(toks) != 3:\n",
    "                        break\n",
    "                    \n",
    "                    stats[\"domain\"].append(domain)\n",
    "                    stats[\"ratio\"].append(float(toks[0]))\n",
    "                    stats[\"std\"].append(float(toks[1]))\n",
    "                    stats[\"h\"].append(float(toks[2]))\n",
    "                    stats[\"prob\"].append(float(diff_to_int[difficulty] * 30 + int(problem[1:])))\n",
    "\n",
    "df = pd.DataFrame(data=stats)"
   ]
  },
  {
   "cell_type": "code",
   "execution_count": 4,
   "metadata": {},
   "outputs": [],
   "source": [
    "fig = px.scatter(df, \"ratio\", \"std\", color=\"domain\", log_y=True, range_y=(1, 1e3))\n",
    "fig.write_html(f\"{save_dir}/std_vs_ratio.html\")"
   ]
  },
  {
   "cell_type": "code",
   "execution_count": 5,
   "metadata": {},
   "outputs": [],
   "source": [
    "fig = px.scatter(df, \"prob\", \"std\", color=\"domain\", log_y=True, range_y=(1, 1e3))\n",
    "fig.write_html(f\"{save_dir}/std_vs_prob.html\")"
   ]
  },
  {
   "cell_type": "code",
   "execution_count": 6,
   "metadata": {},
   "outputs": [],
   "source": [
    "fig = px.scatter(df, \"prob\", \"ratio\", color=\"domain\", range_y=(0, 1))\n",
    "fig.write_html(f\"{save_dir}/ratio_vs_prob.html\")"
   ]
  },
  {
   "cell_type": "code",
   "execution_count": 7,
   "metadata": {},
   "outputs": [],
   "source": [
    "fig = px.scatter(df, \"h\", \"std\", color=\"domain\", log_x=True, log_y=True, range_y=(1, 1e3))\n",
    "fig.write_html(f\"{save_dir}/std_vs_h.html\")"
   ]
  },
  {
   "cell_type": "code",
   "execution_count": 8,
   "metadata": {},
   "outputs": [],
   "source": [
    "fig = px.scatter(df, \"h\", \"ratio\", color=\"domain\", log_x=True, range_y=(0, 1))\n",
    "fig.write_html(f\"{save_dir}/ratio_vs_h.html\")"
   ]
  },
  {
   "cell_type": "code",
   "execution_count": null,
   "metadata": {},
   "outputs": [],
   "source": []
  }
 ],
 "metadata": {
  "kernelspec": {
   "display_name": "goose",
   "language": "python",
   "name": "python3"
  },
  "language_info": {
   "codemirror_mode": {
    "name": "ipython",
    "version": 3
   },
   "file_extension": ".py",
   "mimetype": "text/x-python",
   "name": "python",
   "nbconvert_exporter": "python",
   "pygments_lexer": "ipython3",
   "version": "3.11.5"
  }
 },
 "nbformat": 4,
 "nbformat_minor": 2
}
