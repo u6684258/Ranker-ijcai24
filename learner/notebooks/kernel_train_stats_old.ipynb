{
 "cells": [
  {
   "cell_type": "code",
   "execution_count": 2,
   "metadata": {},
   "outputs": [
    {
     "name": "stderr",
     "output_type": "stream",
     "text": [
      "/home/dillon/.conda/envs/goose/lib/python3.11/site-packages/tqdm/auto.py:21: TqdmWarning: IProgress not found. Please update jupyter and ipywidgets. See https://ipywidgets.readthedocs.io/en/stable/user_install.html\n",
      "  from .autonotebook import tqdm as notebook_tqdm\n"
     ]
    }
   ],
   "source": [
    "import sys\n",
    "sys.path.append(\"..\")\n",
    "import matplotlib.pyplot as plt\n",
    "import os\n",
    "import pandas as pd\n",
    "import numpy as np\n",
    "import itertools\n",
    "from util.save_load import load_kernel_model\n",
    "from kernels.wrapper import MODELS, KernelModelWrapper\n",
    "from dataset.ipc2023_learning_domain_info import IPC2023_LEARNING_DOMAINS, get_number_of_ipc2023_training_data\n",
    "from itertools import product\n",
    "from IPython.display import display, HTML"
   ]
  },
  {
   "cell_type": "code",
   "execution_count": 3,
   "metadata": {},
   "outputs": [],
   "source": [
    "_LOG_DIR = \"../logs_training_kernels\"\n",
    "\n",
    "ITERATIONS = [1, 2, 4, 8, 16]\n",
    "PRUNES = [0, 1, 2, 4, 8, 16]\n",
    "\n",
    "configs = product(\n",
    "    [\"wl\"],  # wl algorithms\n",
    "    ITERATIONS,  # iterations\n",
    "    [\"ig\"],  # representation\n",
    "    [\"ferry\", \"blocksworld\", \"childsnack\", \"floortile\", \"miconic\", \"rovers\", \"satellite\", \"sokoban\", \"spanner\", \"transport\"],  # domains\n",
    "    [\"linear-svr\", \"lasso\", \"ridge\", \"rbf-svr\", \"quadratic-svr\", \"cubic-svr\", \"mlp\"],  # models\n",
    ")\n",
    "\n",
    "\n",
    "CONFIGS = product(\n",
    "    [\"wl\", \"2wl\"],  # wl algorithms\n",
    "    ITERATIONS,  # iterations\n",
    "    PRUNES,  # count prunes\n",
    "    [\"ig\"],  # representation\n",
    "    [\n",
    "        \"ferry\",\n",
    "        \"blocksworld\",\n",
    "        \"childsnack\",\n",
    "        \"floortile\",\n",
    "        \"miconic\",\n",
    "        \"rovers\",\n",
    "        \"satellite\",\n",
    "        \"sokoban\",\n",
    "        \"spanner\",\n",
    "        \"transport\",\n",
    "    ],  # domains\n",
    "    [\"linear-svr\", \"quadratic-svr\", \"cubic-svr\", \"rbf-svr\", \"lasso\", \"ridge\"],  # ml models\n",
    ")\n",
    "CONFIGS = list(CONFIGS)\n",
    "\n",
    "DOMAINS = IPC2023_LEARNING_DOMAINS\n",
    "\n",
    "PLT_DIR = \"plots\"\n",
    "os.makedirs(PLT_DIR, exist_ok=True)"
   ]
  },
  {
   "cell_type": "markdown",
   "metadata": {},
   "source": [
    "### Train metrics"
   ]
  },
  {
   "cell_type": "code",
   "execution_count": 8,
   "metadata": {},
   "outputs": [],
   "source": [
    "def get_data_from_log_file(log_file):\n",
    "    assert os.path.exists(log_file), log_file\n",
    "    stats = {}\n",
    "    lines = list(open(log_file, 'r').readlines())\n",
    "    for line in lines:\n",
    "      toks = line.split()\n",
    "      if \"train_mse\" in line:\n",
    "        stats[\"train_mse\"] = float(toks[-1])\n",
    "      elif \"train_f1_macro\" in line:\n",
    "        stats[\"train_f1\"] = float(toks[-1])\n",
    "      elif \"val_mse\" in line:\n",
    "        stats[\"val_mse\"] = float(toks[-1])\n",
    "      elif \"val_f1_macro\" in line:\n",
    "        stats[\"val_f1\"] = float(toks[-1])\n",
    "      elif \"zero_weights\" in line:\n",
    "        weights = int(toks[1].split('/')[1])\n",
    "        zeros = int(toks[1].split('/')[0])\n",
    "        stats[\"nonzero_weights\"] = weights - zeros\n",
    "      elif \"Model training completed in \" in line:\n",
    "        stats[\"time\"] = float(toks[-1].replace(\"s\", \"\"))\n",
    "    \n",
    "    if \"nonzero_weights\" not in stats:\n",
    "      stats[\"nonzero_weights\"] = \"na\"\n",
    "    \n",
    "    return stats"
   ]
  },
  {
   "cell_type": "code",
   "execution_count": 9,
   "metadata": {},
   "outputs": [],
   "source": [
    "\"\"\" display df over all domains \"\"\"\n",
    "def get_data(domain, target):\n",
    "  d = {\n",
    "    \"config\": [],\n",
    "    \"mse\": [],\n",
    "    \"f1\": [],\n",
    "    \"nonzero_weights\": [],\n",
    "    \"time\": [],\n",
    "  }\n",
    "\n",
    "  assert target in {\"H\", \"D\"}\n",
    "\n",
    "  for wl, iterations, rep, domain, model in CONFIGS:\n",
    "    desc = f\"{wl}_{iterations}_{rep}_{model}_{target}_{domain}\"\n",
    "    log_file = _LOG_DIR + \"/\" + desc + \".log\"\n",
    "    \n",
    "    if not os.path.exists(log_file):\n",
    "      continue\n",
    "\n",
    "    stats = get_data_from_log_file(log_file)\n",
    "    stats[\"config\"] = desc\n",
    "\n",
    "    if len(stats) != len(d):\n",
    "      continue\n",
    "\n",
    "    for key in stats:\n",
    "      d[key].append(stats[key])\n",
    "\n",
    "  return d\n",
    "\n",
    "def get_df(domain, target):\n",
    "  d = get_data(domain, target)\n",
    "  return pd.DataFrame(d)\n",
    "\n",
    "# max_times = []\n",
    "# for domain in IPC2023_LEARNING_DOMAINS:\n",
    "#   data = get_df(domain, \"H\")\n",
    "#   max_times.append(max(data.to_numpy()[:,-1]))\n",
    "#   display(data)\n",
    "# print(\"max time:\", max(max_times))"
   ]
  },
  {
   "cell_type": "code",
   "execution_count": 18,
   "metadata": {},
   "outputs": [
    {
     "data": {
      "text/plain": [
       "<Figure size 640x480 with 0 Axes>"
      ]
     },
     "metadata": {},
     "output_type": "display_data"
    }
   ],
   "source": [
    "rep = \"ig\"\n",
    "target = \"H\"\n",
    "for wl, metric, domain in product([\"wl\", \"2wl\"], [\"train_mse\", \"train_f1\", \"val_mse\", \"val_f1\"], DOMAINS):\n",
    "    for model in MODELS:\n",
    "        xs = []\n",
    "        ys = []\n",
    "        for iterations, prune in product(ITERATIONS, PRUNES):\n",
    "            desc = \"_\".join([model, wl, str(iterations), str(prune), rep, domain, target])\n",
    "            log_file = _LOG_DIR + \"/\" + desc + \".log\"\n",
    "            if not os.path.exists(log_file):\n",
    "                continue\n",
    "            stats = get_data_from_log_file(log_file)\n",
    "            if metric not in stats:\n",
    "                continue\n",
    "            xs.append(iterations)\n",
    "            ys.append(stats[metric])\n",
    "        plt.scatter(xs, ys, label=model)\n",
    "    if \"f1\" in metric:\n",
    "        plt.ylim((0, 1))\n",
    "    elif \"mse\" in metric:\n",
    "        plt.ylim((1e-1, 1e2))\n",
    "        plt.yscale(\"log\")\n",
    "    plt.xscale(\"log\")\n",
    "    power_of_2_ticks = [2**i for i in range(int(np.log2(min(ITERATIONS))), int(np.log2(max(ITERATIONS))) + 1)]\n",
    "    plt.xticks(power_of_2_ticks, [str(tick) for tick in power_of_2_ticks])\n",
    "    plt.title(f\"{metric} {domain} {wl}\")\n",
    "    plt.legend(bbox_to_anchor=(1, 1), loc='upper left')\n",
    "    try:\n",
    "        plt.savefig(f\"{PLT_DIR}/{metric}_{domain}_{wl}.png\", dpi=480, bbox_inches=\"tight\")\n",
    "    except:\n",
    "        pass\n",
    "    plt.clf()"
   ]
  },
  {
   "cell_type": "code",
   "execution_count": null,
   "metadata": {},
   "outputs": [],
   "source": []
  },
  {
   "cell_type": "code",
   "execution_count": null,
   "metadata": {},
   "outputs": [],
   "source": []
  }
 ],
 "metadata": {
  "kernelspec": {
   "display_name": "torch",
   "language": "python",
   "name": "python3"
  },
  "language_info": {
   "codemirror_mode": {
    "name": "ipython",
    "version": 3
   },
   "file_extension": ".py",
   "mimetype": "text/x-python",
   "name": "python",
   "nbconvert_exporter": "python",
   "pygments_lexer": "ipython3",
   "version": "3.11.5"
  },
  "orig_nbformat": 4
 },
 "nbformat": 4,
 "nbformat_minor": 2
}
