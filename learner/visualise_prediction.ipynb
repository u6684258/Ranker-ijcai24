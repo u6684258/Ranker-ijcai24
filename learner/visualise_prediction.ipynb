{
 "cells": [
  {
   "cell_type": "code",
   "execution_count": 1,
   "metadata": {},
   "outputs": [],
   "source": [
    "import util.save_load\n",
    "from util.visualise import *"
   ]
  },
  {
   "cell_type": "code",
   "execution_count": 2,
   "metadata": {},
   "outputs": [
    {
     "data": {
      "text/plain": [
       "'/home/dillon/papers/24-aaai-goose/paper/plots'"
      ]
     },
     "execution_count": 2,
     "metadata": {},
     "output_type": "execute_result"
    }
   ],
   "source": [
    "PAPER_DIR = str(Path.home())+\"/papers/24-aaai-goose/paper\"\n",
    "\n",
    "PLOT_DIR = f\"{PAPER_DIR}/plots\"\n",
    "PLOT_DIR"
   ]
  },
  {
   "cell_type": "code",
   "execution_count": 3,
   "metadata": {},
   "outputs": [],
   "source": [
    "L=4\n",
    "aggr=\"max\"\n",
    "H=64\n",
    "\n",
    "CONFIGS = [\"hff\", \"sdg-el dd\", \"fdg-el dd\", \"ldg-el dd\", \"sdg-el di\", \"fdg-el di\", \"ldg-el di\"]"
   ]
  },
  {
   "cell_type": "code",
   "execution_count": 49,
   "metadata": {},
   "outputs": [],
   "source": [
    "h_opt = {}\n",
    "for domain in GOOSE_DOMAINS:\n",
    "    problem_pddls = sorted_nicely(os.listdir(f\"../benchmarks/goose/{domain}/test\"))\n",
    "    for problem_pddl in problem_pddls:\n",
    "        problem_name = os.path.basename(problem_pddl).replace(\".pddl\", \"\")\n",
    "\n",
    "        key = (domain, problem_name)\n",
    "        f = f'logs/seq-opt-mns/{domain}_{problem_name}_seq-opt-mns.log'\n",
    "        for line in open(f, 'r').readlines():\n",
    "            if 'Plan cost: ' in line:\n",
    "                h_opt[key] = int(line.split()[-1])\n",
    "        \n",
    "        if key in h_opt:\n",
    "            continue\n",
    "\n",
    "        # hardcode opt for some problems\n",
    "        if domain == \"gripper\":\n",
    "            n = int(problem_name.replace(\"gripper-n\", \"\"))\n",
    "            h_opt[key] = n * 3 - (n % 2 == 0)\n",
    "        elif domain == \"visitall\":\n",
    "            for i in range(5):\n",
    "                problem_name = problem_name.replace(f\"-s{i}\", '')\n",
    "            n = int(problem_name.replace(\"n\", \"\"))\n",
    "            h_opt[key] = n * n - 1\n",
    "        elif domain == \"spanner\":\n",
    "            nums = [int(s) for s in re.findall(r'\\d+', problem_name)]\n",
    "            s = nums[0]\n",
    "            n = nums[1]\n",
    "            l = nums[2]\n",
    "            h_opt[key] = 2*n + l + 1\n",
    "        elif domain == \"ferry\":\n",
    "            nums = [int(s) for s in re.findall(r'\\d+', problem_name)]\n",
    "            n_locs = nums[0]\n",
    "            n_cars = nums[1]\n",
    "            ferry = -1\n",
    "\n",
    "            locs = {l:set() for l in range(n_locs)}  # only stores non goal cars\n",
    "            cars = {}\n",
    "            goal = {}\n",
    "\n",
    "            goal_time = False\n",
    "            for line in open(f\"../benchmarks/goose/{domain}/test/{problem_pddl}\", 'r').readlines():\n",
    "                if \"(:goal\" in line:\n",
    "                    goal_time = True\n",
    "                    continue\n",
    "\n",
    "                if \"(at-ferry\" in line:\n",
    "                    line = line.split()\n",
    "                    ferry = int(line[-1].replace('l', '').replace(')', ''))\n",
    "                    continue\n",
    "\n",
    "                if \"(at \" in line:\n",
    "                    line = line.split()\n",
    "                    car = int(line[1].replace('c', ''))\n",
    "                    loc = int(line[-1].replace('l', '').replace(')', ''))\n",
    "                    if not goal_time:\n",
    "                        locs[loc].add(car)\n",
    "                        cars[car] = loc\n",
    "                    else:\n",
    "                        goal[car] = loc\n",
    "            \n",
    "            # solve problem\n",
    "            opt = 0\n",
    "            while True:\n",
    "                # check goal:\n",
    "                is_goal = True\n",
    "                for car in range(n_cars):\n",
    "                    if cars[car] != goal[car]:\n",
    "                        is_goal = False\n",
    "                        break\n",
    "                if is_goal:\n",
    "                    break\n",
    "                    \n",
    "                # greedy find car whose goal location has non goal cars\n",
    "                car_to_transport = -1\n",
    "                for car in locs[ferry]:\n",
    "                    if cars[car] != goal[car] and len(locs[goal[car]]) > 0:\n",
    "                        car_to_transport = car\n",
    "                        car_loc = ferry\n",
    "                        break\n",
    "                if car_to_transport == -1:\n",
    "                    # if all car goal locations are empty\n",
    "                    for car in locs[ferry]:\n",
    "                        if cars[car] != goal[car]:\n",
    "                            car_to_transport = car\n",
    "                            car_loc = ferry\n",
    "                            break\n",
    "                \n",
    "                if car_to_transport != -1:\n",
    "                    locs[car_loc].remove(car)\n",
    "                    ferry = goal[car]\n",
    "                    cars[car_to_transport] = goal[car_to_transport]\n",
    "                    opt += 3\n",
    "                else:\n",
    "                    for car in range(n_cars):\n",
    "                        if cars[car] != goal[car]:\n",
    "                            car_to_transport = car\n",
    "                            car_loc = cars[car]\n",
    "                            break\n",
    "\n",
    "                    locs[car_loc].remove(car)\n",
    "                    ferry = goal[car]\n",
    "                    cars[car_to_transport] = goal[car_to_transport]\n",
    "                    opt += 4\n",
    "            # end while\n",
    "            h_opt[key] = opt"
   ]
  },
  {
   "cell_type": "code",
   "execution_count": 59,
   "metadata": {},
   "outputs": [
    {
     "data": {
      "text/plain": [
       "<Figure size 432x288 with 0 Axes>"
      ]
     },
     "metadata": {},
     "output_type": "display_data"
    }
   ],
   "source": [
    "def scatter_plot(config):\n",
    "    plt.rcParams.update({'font.size': 15})\n",
    "    biggest_x = 0\n",
    "    for domain in GOOSE_DOMAINS:\n",
    "        xs = []\n",
    "        ys = []\n",
    "\n",
    "        problem_pddls = os.listdir(f\"../benchmarks/goose/{domain}/test\")\n",
    "        for problem_pddl in problem_pddls:\n",
    "            problem_name = os.path.basename(problem_pddl).replace(\".pddl\", \"\")\n",
    "\n",
    "            key = (domain, problem_name)\n",
    "            if key not in h_opt:\n",
    "                continue\n",
    "            \n",
    "            config_toks = config.split()\n",
    "            if len(config_toks) == 2:\n",
    "                rep, train_type = tuple(config_toks)\n",
    "                p = 20 if train_type == \"di\" else 10\n",
    "                f = f'logs/test/{problem_name}_{train_type}_{rep}_{domain}_L{L}_H{H}_{aggr}_p{p}_r0.log'\n",
    "                if not os.path.exists(f): continue\n",
    "            else:  #hff\n",
    "                f = f'logs/{config}/{domain}_{problem_name}_{config}.log'\n",
    "\n",
    "            \n",
    "            x = h_opt[key]\n",
    "            y = scrape_search_log(f)[\"first_h\"]\n",
    "\n",
    "            xs.append(x)\n",
    "            ys.append(y)\n",
    "\n",
    "            biggest_x = max(biggest_x, x)\n",
    "        \n",
    "        plt.scatter(xs, ys, label=domain, marker='x', alpha=0.8)\n",
    "    plt.plot([1, biggest_x], [1, biggest_x], linestyle='dashed', color='k', zorder=0)\n",
    "    plt.xscale('log')\n",
    "    plt.yscale('log')\n",
    "    plt.xlim(left=10)\n",
    "    plt.ylim(bottom=10)\n",
    "    plt.legend()\n",
    "    plt.title(config)\n",
    "    # plt.show()\n",
    "    plt.tight_layout()\n",
    "    plt.savefig(f\"{PLOT_DIR}/heuristic-{config.replace(' ', '_')}.pdf\")\n",
    "    plt.clf()\n",
    "    return\n",
    "for config in CONFIGS:\n",
    "    scatter_plot(config)"
   ]
  },
  {
   "cell_type": "code",
   "execution_count": 51,
   "metadata": {},
   "outputs": [
    {
     "data": {
      "text/plain": [
       "<Figure size 432x288 with 0 Axes>"
      ]
     },
     "metadata": {},
     "output_type": "display_data"
    }
   ],
   "source": []
  },
  {
   "cell_type": "code",
   "execution_count": 17,
   "metadata": {},
   "outputs": [],
   "source": [
    "import torch\n",
    "import util.save_load\n",
    "import numpy as np"
   ]
  },
  {
   "cell_type": "code",
   "execution_count": 10,
   "outputs": [
    {
     "name": "stdout",
     "output_type": "stream",
     "text": [
      "Loading model...\n",
      "Model loaded!\n",
      "Generating Datalog program... [0.000s CPU, 0.000s wall-clock]\n",
      "Normalizing Datalog program...\n",
      "Normalizing Datalog program: [0.000s CPU, 0.001s wall-clock]\n",
      "Preparing model... [0.000s CPU, 0.000s wall-clock]\n",
      "Generated 21 rules.\n",
      "Computing model... [0.000s CPU, 0.001s wall-clock]\n",
      "158 relevant atoms\n",
      "102 auxiliary atoms\n",
      "260 final queue length\n",
      "419 total queue pushes\n",
      "Completing instantiation... [0.000s CPU, 0.001s wall-clock]\n",
      "sdg-el created!\n",
      "time taken: 0.0147s\n",
      "num nodes: 139\n",
      "num edges: 396\n",
      "graph density: 0.04128870816390366\n"
     ]
    }
   ],
   "source": [
    "model = util.save_load.load_model_and_setup(\"/home/ming/PycharmProjects/goose/learner/trained_models/test-blocks.dt\",\n",
    "    \"/home/ming/PycharmProjects/goose/benchmarks/goose/blocks/domain.pddl\",\n",
    "    \"/home/ming/PycharmProjects/goose/benchmarks/goose/blocks/test_small/blocks6-task07.pddl\")"
   ],
   "metadata": {
    "collapsed": false
   }
  },
  {
   "cell_type": "code",
   "execution_count": 13,
   "outputs": [
    {
     "data": {
      "text/plain": "Parameter containing:\ntensor([[-0.0043,  0.1876,  0.1937, -0.0763, -0.2038,  0.2844,  0.2437,  0.2045,\n          0.2626, -0.1335]], requires_grad=True)"
     },
     "execution_count": 13,
     "metadata": {},
     "output_type": "execute_result"
    }
   ],
   "source": [
    "model.ranker.weight"
   ],
   "metadata": {
    "collapsed": false
   }
  },
  {
   "cell_type": "code",
   "execution_count": 16,
   "outputs": [],
   "source": [
    "model.ranker.bias"
   ],
   "metadata": {
    "collapsed": false
   }
  },
  {
   "cell_type": "code",
   "execution_count": 20,
   "outputs": [],
   "source": [
    "model_encode = torch.tensor([ 0.2612,  4.8759, -6.5773,  5.0025, -1.4831, -0.6476,  3.6948, -4.4845,\n",
    "         -7.4718,  5.1722])"
   ],
   "metadata": {
    "collapsed": false
   }
  },
  {
   "cell_type": "code",
   "execution_count": 21,
   "outputs": [
    {
     "data": {
      "text/plain": "tensor([-3.2928], grad_fn=<SqueezeBackward4>)"
     },
     "execution_count": 21,
     "metadata": {},
     "output_type": "execute_result"
    }
   ],
   "source": [
    "model.ranker(model_encode)"
   ],
   "metadata": {
    "collapsed": false
   }
  },
  {
   "cell_type": "code",
   "execution_count": 22,
   "outputs": [],
   "source": [
    "model_encode = torch.tensor([ 0.2612,  4.8759, -6.5773,  5.0025, -1.4831, -0.6476,  3.6948, -4.4845,\n",
    "         -7.4718,  5.1722])"
   ],
   "metadata": {
    "collapsed": false
   }
  },
  {
   "cell_type": "code",
   "execution_count": 25,
   "outputs": [
    {
     "data": {
      "text/plain": "tensor([-3.2928], grad_fn=<SqueezeBackward4>)"
     },
     "execution_count": 25,
     "metadata": {},
     "output_type": "execute_result"
    }
   ],
   "source": [
    "model.ranker(model_encode)"
   ],
   "metadata": {
    "collapsed": false
   }
  },
  {
   "cell_type": "code",
   "execution_count": null,
   "outputs": [],
   "source": [],
   "metadata": {
    "collapsed": false
   }
  }
 ],
 "metadata": {
  "kernelspec": {
   "display_name": "Python 3",
   "language": "python",
   "name": "python3"
  },
  "language_info": {
   "codemirror_mode": {
    "name": "ipython",
    "version": 3
   },
   "file_extension": ".py",
   "mimetype": "text/x-python",
   "name": "python",
   "nbconvert_exporter": "python",
   "pygments_lexer": "ipython3",
   "version": "3.8.10"
  },
  "orig_nbformat": 4
 },
 "nbformat": 4,
 "nbformat_minor": 2
}
