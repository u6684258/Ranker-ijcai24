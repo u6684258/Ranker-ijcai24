{
 "cells": [
  {
   "cell_type": "code",
   "execution_count": 36,
   "metadata": {
    "collapsed": true
   },
   "outputs": [
    {
     "ename": "ImportError",
     "evalue": "cannot import name 'tools' from 'pyperplan' (unknown location)",
     "output_type": "error",
     "traceback": [
      "\u001B[0;31m---------------------------------------------------------------------------\u001B[0m",
      "\u001B[0;31mImportError\u001B[0m                               Traceback (most recent call last)",
      "Cell \u001B[0;32mIn[36], line 6\u001B[0m\n\u001B[1;32m      4\u001B[0m \u001B[38;5;28;01mfrom\u001B[39;00m \u001B[38;5;21;01mutil\u001B[39;00m\u001B[38;5;21;01m.\u001B[39;00m\u001B[38;5;21;01msearch\u001B[39;00m \u001B[38;5;28;01mimport\u001B[39;00m search_cmd\n\u001B[1;32m      5\u001B[0m \u001B[38;5;28;01mimport\u001B[39;00m \u001B[38;5;21;01msubprocess\u001B[39;00m\n\u001B[0;32m----> 6\u001B[0m \u001B[38;5;28;01mimport\u001B[39;00m \u001B[38;5;21;01mutil\u001B[39;00m\u001B[38;5;21;01m.\u001B[39;00m\u001B[38;5;21;01mpyperplan_api\u001B[39;00m\n",
      "File \u001B[0;32m~/PycharmProjects/goose/learner/util/pyperplan_api.py:9\u001B[0m\n\u001B[1;32m      6\u001B[0m \u001B[38;5;28;01mfrom\u001B[39;00m \u001B[38;5;21;01mpathlib\u001B[39;00m \u001B[38;5;28;01mimport\u001B[39;00m Path\n\u001B[1;32m      7\u001B[0m \u001B[38;5;28;01mfrom\u001B[39;00m \u001B[38;5;21;01mtyping\u001B[39;00m \u001B[38;5;28;01mimport\u001B[39;00m NamedTuple, FrozenSet, TypeVar, List, Dict, Tuple\n\u001B[0;32m----> 9\u001B[0m \u001B[38;5;28;01mfrom\u001B[39;00m \u001B[38;5;21;01mpyperplan\u001B[39;00m\u001B[38;5;21;01m.\u001B[39;00m\u001B[38;5;21;01mpyperplan\u001B[39;00m\u001B[38;5;21;01m.\u001B[39;00m\u001B[38;5;21;01mplanner\u001B[39;00m \u001B[38;5;28;01mimport\u001B[39;00m get_domain_and_task\n\u001B[1;32m     10\u001B[0m \u001B[38;5;28;01mfrom\u001B[39;00m \u001B[38;5;21;01mpyperplan\u001B[39;00m\u001B[38;5;21;01m.\u001B[39;00m\u001B[38;5;21;01mpyperplan\u001B[39;00m\u001B[38;5;21;01m.\u001B[39;00m\u001B[38;5;21;01mpddl\u001B[39;00m\u001B[38;5;21;01m.\u001B[39;00m\u001B[38;5;21;01mpddl\u001B[39;00m \u001B[38;5;28;01mimport\u001B[39;00m Domain \u001B[38;5;28;01mas\u001B[39;00m PyperplanDomain\n\u001B[1;32m     11\u001B[0m \u001B[38;5;28;01mfrom\u001B[39;00m \u001B[38;5;21;01mpyperplan\u001B[39;00m\u001B[38;5;21;01m.\u001B[39;00m\u001B[38;5;21;01mpyperplan\u001B[39;00m\u001B[38;5;21;01m.\u001B[39;00m\u001B[38;5;21;01mtask\u001B[39;00m \u001B[38;5;28;01mimport\u001B[39;00m Task \u001B[38;5;28;01mas\u001B[39;00m PyperplanTask, Operator\n",
      "File \u001B[0;32m~/PycharmProjects/goose/pyperplan/pyperplan/planner.py:26\u001B[0m\n\u001B[1;32m     23\u001B[0m \u001B[38;5;28;01mimport\u001B[39;00m \u001B[38;5;21;01msys\u001B[39;00m\n\u001B[1;32m     24\u001B[0m \u001B[38;5;28;01mimport\u001B[39;00m \u001B[38;5;21;01mtime\u001B[39;00m\n\u001B[0;32m---> 26\u001B[0m \u001B[38;5;28;01mfrom\u001B[39;00m \u001B[38;5;21;01m.\u001B[39;00m \u001B[38;5;28;01mimport\u001B[39;00m grounding, heuristics, search, tools\n\u001B[1;32m     27\u001B[0m \u001B[38;5;28;01mfrom\u001B[39;00m \u001B[38;5;21;01m.\u001B[39;00m\u001B[38;5;21;01mpddl\u001B[39;00m\u001B[38;5;21;01m.\u001B[39;00m\u001B[38;5;21;01mparser\u001B[39;00m \u001B[38;5;28;01mimport\u001B[39;00m Parser\n\u001B[1;32m     30\u001B[0m SEARCHES \u001B[38;5;241m=\u001B[39m {\n\u001B[1;32m     31\u001B[0m     \u001B[38;5;124m\"\u001B[39m\u001B[38;5;124mastar\u001B[39m\u001B[38;5;124m\"\u001B[39m: search\u001B[38;5;241m.\u001B[39mastar_search,\n\u001B[1;32m     32\u001B[0m     \u001B[38;5;124m\"\u001B[39m\u001B[38;5;124mwastar\u001B[39m\u001B[38;5;124m\"\u001B[39m: search\u001B[38;5;241m.\u001B[39mweighted_astar_search,\n\u001B[0;32m   (...)\u001B[0m\n\u001B[1;32m     37\u001B[0m     \u001B[38;5;124m\"\u001B[39m\u001B[38;5;124msat\u001B[39m\u001B[38;5;124m\"\u001B[39m: search\u001B[38;5;241m.\u001B[39msat_solve,\n\u001B[1;32m     38\u001B[0m }\n",
      "File \u001B[0;32m~/PycharmProjects/goose/pyperplan/pyperplan/search/__init__.py:22\u001B[0m\n\u001B[1;32m     20\u001B[0m \u001B[38;5;28;01mfrom\u001B[39;00m \u001B[38;5;21;01m.\u001B[39;00m\u001B[38;5;21;01menforced_hillclimbing_search\u001B[39;00m \u001B[38;5;28;01mimport\u001B[39;00m enforced_hillclimbing_search\n\u001B[1;32m     21\u001B[0m \u001B[38;5;28;01mfrom\u001B[39;00m \u001B[38;5;21;01m.\u001B[39;00m\u001B[38;5;21;01miterative_deepening_search\u001B[39;00m \u001B[38;5;28;01mimport\u001B[39;00m iterative_deepening_search\n\u001B[0;32m---> 22\u001B[0m \u001B[38;5;28;01mfrom\u001B[39;00m \u001B[38;5;21;01m.\u001B[39;00m\u001B[38;5;21;01msat\u001B[39;00m \u001B[38;5;28;01mimport\u001B[39;00m sat_solve\n\u001B[1;32m     23\u001B[0m \u001B[38;5;28;01mfrom\u001B[39;00m \u001B[38;5;21;01m.\u001B[39;00m\u001B[38;5;21;01msearchspace\u001B[39;00m \u001B[38;5;28;01mimport\u001B[39;00m make_child_node, make_root_node\n",
      "File \u001B[0;32m~/PycharmProjects/goose/pyperplan/pyperplan/search/sat.py:4\u001B[0m\n\u001B[1;32m      1\u001B[0m \u001B[38;5;28;01mfrom\u001B[39;00m \u001B[38;5;21;01mcollections\u001B[39;00m \u001B[38;5;28;01mimport\u001B[39;00m defaultdict\n\u001B[1;32m      2\u001B[0m \u001B[38;5;28;01mimport\u001B[39;00m \u001B[38;5;21;01mlogging\u001B[39;00m\n\u001B[0;32m----> 4\u001B[0m \u001B[38;5;28;01mfrom\u001B[39;00m \u001B[38;5;21;01m.\u001B[39;00m \u001B[38;5;28;01mimport\u001B[39;00m minisat\n\u001B[1;32m      7\u001B[0m \u001B[38;5;66;03m# Max number of steps in a plan\u001B[39;00m\n\u001B[1;32m      8\u001B[0m HORIZON \u001B[38;5;241m=\u001B[39m \u001B[38;5;241m1000\u001B[39m\n",
      "File \u001B[0;32m~/PycharmProjects/goose/pyperplan/pyperplan/search/minisat.py:6\u001B[0m\n\u001B[1;32m      3\u001B[0m \u001B[38;5;28;01mimport\u001B[39;00m \u001B[38;5;21;01msubprocess\u001B[39;00m\n\u001B[1;32m      4\u001B[0m \u001B[38;5;28;01mimport\u001B[39;00m \u001B[38;5;21;01msys\u001B[39;00m\n\u001B[0;32m----> 6\u001B[0m \u001B[38;5;28;01mfrom\u001B[39;00m \u001B[38;5;21;01mpyperplan\u001B[39;00m \u001B[38;5;28;01mimport\u001B[39;00m tools\n\u001B[1;32m      9\u001B[0m INPUT \u001B[38;5;241m=\u001B[39m \u001B[38;5;124m\"\u001B[39m\u001B[38;5;124minput.cnf\u001B[39m\u001B[38;5;124m\"\u001B[39m\n\u001B[1;32m     10\u001B[0m OUTPUT \u001B[38;5;241m=\u001B[39m \u001B[38;5;124m\"\u001B[39m\u001B[38;5;124moutput.txt\u001B[39m\u001B[38;5;124m\"\u001B[39m\n",
      "\u001B[0;31mImportError\u001B[0m: cannot import name 'tools' from 'pyperplan' (unknown location)"
     ]
    }
   ],
   "source": [
    "\n",
    "import numpy as np\n",
    "import torch\n",
    "import os\n",
    "from util.search import search_cmd\n",
    "import subprocess\n"
   ]
  },
  {
   "cell_type": "code",
   "execution_count": 15,
   "outputs": [
    {
     "name": "stdout",
     "output_type": "stream",
     "text": [
      "INFO     planner time limit: None\n",
      "INFO     planner memory limit: None\n",
      "\n",
      "INFO     Running translator.\n",
      "INFO     translator stdin: None\n",
      "INFO     translator time limit: None\n",
      "INFO     translator memory limit: None\n",
      "INFO     translator command line string: /home/ming/PycharmProjects/goose/venv/bin/python3 /home/ming/PycharmProjects/goose/downward/builds/release/bin/translate/translate.py ../benchmarks/goose/blocks/domain.pddl ../benchmarks/goose/blocks/val/blocks11-task01.pddl --sas-file sas_files/fd_-benchmarks-goose-blocks-val-blocks11-task01_batch_eager_greedy_rank-blocks-L3.sas_file\n",
      "Parsing...\n",
      "Parsing: [0.000s CPU, 0.001s wall-clock]\n",
      "Normalizing task... [0.000s CPU, 0.000s wall-clock]\n",
      "Instantiating...\n",
      "Generating Datalog program... [0.000s CPU, 0.000s wall-clock]\n",
      "Normalizing Datalog program...\n",
      "Normalizing Datalog program: [0.000s CPU, 0.000s wall-clock]\n",
      "Preparing model... [0.000s CPU, 0.000s wall-clock]\n",
      "Generated 21 rules.\n",
      "Computing model... [0.000s CPU, 0.002s wall-clock]\n",
      "453 relevant atoms\n",
      "297 auxiliary atoms\n",
      "750 final queue length\n",
      "1258 total queue pushes\n",
      "Completing instantiation... [0.010s CPU, 0.003s wall-clock]\n",
      "Instantiating: [0.010s CPU, 0.006s wall-clock]\n",
      "Computing fact groups...\n",
      "Finding invariants...\n",
      "10 initial candidates\n",
      "Finding invariants: [0.000s CPU, 0.001s wall-clock]\n",
      "Checking invariant weight... [0.000s CPU, 0.000s wall-clock]\n",
      "Instantiating groups... [0.000s CPU, 0.000s wall-clock]\n",
      "Collecting mutex groups... [0.000s CPU, 0.000s wall-clock]\n",
      "Choosing groups...\n",
      "12 uncovered facts\n",
      "Choosing groups: [0.000s CPU, 0.000s wall-clock]\n",
      "Building translation key... [0.000s CPU, 0.000s wall-clock]\n",
      "Computing fact groups: [0.000s CPU, 0.002s wall-clock]\n",
      "Building STRIPS to SAS dictionary... [0.000s CPU, 0.000s wall-clock]\n",
      "Building dictionary for full mutex groups... [0.000s CPU, 0.000s wall-clock]\n",
      "Building mutex information...\n",
      "Building mutex information: [0.000s CPU, 0.000s wall-clock]\n",
      "Translating task...\n",
      "Processing axioms...\n",
      "Simplifying axioms... [0.000s CPU, 0.000s wall-clock]\n",
      "Translator axioms removed by simplifying: 0\n",
      "Computing negative axioms... [0.000s CPU, 0.000s wall-clock]\n",
      "Processing axioms: [0.000s CPU, 0.000s wall-clock]\n",
      "Translating task: [0.000s CPU, 0.004s wall-clock]\n",
      "352 effect conditions simplified\n",
      "0 implied preconditions added\n",
      "Detecting unreachable propositions...\n",
      "0 operators removed\n",
      "0 axioms removed\n",
      "22 propositions removed\n",
      "Detecting unreachable propositions: [0.000s CPU, 0.002s wall-clock]\n",
      "Reordering and filtering variables...\n",
      "23 of 23 variables necessary.\n",
      "12 of 23 mutex groups necessary.\n",
      "242 of 242 operators necessary.\n",
      "0 of 0 axiom rules necessary.\n",
      "Reordering and filtering variables: [0.010s CPU, 0.001s wall-clock]\n",
      "Translator variables: 23\n",
      "Translator derived variables: 0\n",
      "Translator facts: 156\n",
      "Translator goal facts: 11\n",
      "Translator mutex groups: 12\n",
      "Translator total mutex groups size: 144\n",
      "Translator operators: 242\n",
      "Translator axioms: 0\n",
      "Translator task size: 2116\n",
      "Translator peak memory: 43836 KB\n",
      "Writing output... [0.000s CPU, 0.001s wall-clock]\n",
      "Done! [0.020s CPU, 0.017s wall-clock]\n",
      "translate exit code: 0\n",
      "\n",
      "INFO     Running search (release).\n",
      "INFO     search stdin: sas_files/fd_-benchmarks-goose-blocks-val-blocks11-task01_batch_eager_greedy_rank-blocks-L3.sas_file\n",
      "INFO     search time limit: 600000s\n",
      "INFO     search memory limit: None\n",
      "INFO     search command line string: /home/ming/PycharmProjects/goose/downward/builds/release/bin/downward --search 'batch_eager_greedy([goose(model_path=\"trained_models_gnn/rank-blocks-L3.dt\",model_type=\"gnn\",domain_file=\"../benchmarks/goose/blocks/domain.pddl\",instance_file=\"../benchmarks/goose/blocks/val/blocks11-task01.pddl\")])' --internal-plan-file plans/fd_-benchmarks-goose-blocks-val-blocks11-task01_batch_eager_greedy_rank-blocks-L3.plan < sas_files/fd_-benchmarks-goose-blocks-val-blocks11-task01_batch_eager_greedy_rank-blocks-L3.sas_file\n",
      "[t=0.000720025s, 13740 KB] reading input...\n",
      "[t=0.00131822s, 14004 KB] done reading input!\n",
      "GOOSE path is /home/ming/PycharmProjects/goose/learner\n",
      "Trying to load model from file trained_models_gnn/rank-blocks-L3.dt ...\n",
      "Loaded model!\n",
      "[t=1.76431s, 4380728 KB] Building successor generator...done!\n",
      "[t=1.76441s, 4380728 KB] peak memory difference for successor generator creation: 0 KB\n",
      "[t=1.76442s, 4380728 KB] time for successor generation creation: 4.9198e-05s\n",
      "[t=1.76442s, 4380728 KB] Variables: 23\n",
      "[t=1.76443s, 4380728 KB] FactPairs: 156\n",
      "[t=1.76444s, 4380728 KB] Bytes per state: 8\n",
      "[t=1.76446s, 4380728 KB] Conducting best first search without reopening closed nodes, (real) bound = 2147483647\n",
      "[t=1.77086s, 5916832 KB] New best heuristic value for goose(model_path=trained_models_gnn/rank-blocks-L3.dt,model_type=gnn,domain_file=../benchmarks/goose/blocks/domain.pddl,instance_file=../benchmarks/goose/blocks/val/blocks11-task01.pddl): 10027755\n",
      "[t=1.7709s, 5916832 KB] g=0, 1 evaluated, 0 expanded\n",
      "Peak memory: 5916832 KB\n",
      "caught signal 2 -- exiting\n"
     ]
    },
    {
     "name": "stderr",
     "output_type": "stream",
     "text": [
      "Traceback (most recent call last):\n",
      "  File \"/home/ming/PycharmProjects/goose/learner/./../downward/fast-downward.py\", line 5, in <module>\n",
      "    main()\n",
      "  File \"/home/ming/PycharmProjects/goose/downward/driver/main.py\", line 41, in main\n",
      "    (exitcode, continue_execution) = run_components.run_search(args)\n",
      "  File \"/home/ming/PycharmProjects/goose/downward/driver/run_components.py\", line 123, in run_search\n",
      "    call.check_call(\n",
      "  File \"/home/ming/PycharmProjects/goose/downward/driver/call.py\", line 57, in check_call\n",
      "    return subprocess.check_call(cmd, stdin=stdin_file, **kwargs)\n",
      "  File \"/usr/lib/python3.10/subprocess.py\", line 364, in check_call\n",
      "    retcode = call(*popenargs, **kwargs)\n",
      "  File \"/usr/lib/python3.10/subprocess.py\", line 347, in call\n",
      "    return p.wait(timeout=timeout)\n",
      "  File \"/usr/lib/python3.10/subprocess.py\", line 1207, in wait\n",
      "    return self._wait(timeout=timeout)\n",
      "  File \"/usr/lib/python3.10/subprocess.py\", line 1941, in _wait\n",
      "    (pid, sts) = self._try_wait(0)\n",
      "  File \"/usr/lib/python3.10/subprocess.py\", line 1899, in _try_wait\n",
      "    (pid, sts) = os.waitpid(self.pid, wait_flags)\n",
      "KeyboardInterrupt\n"
     ]
    },
    {
     "ename": "KeyboardInterrupt",
     "evalue": "",
     "output_type": "error",
     "traceback": [
      "\u001B[0;31m---------------------------------------------------------------------------\u001B[0m",
      "\u001B[0;31mKeyboardInterrupt\u001B[0m                         Traceback (most recent call last)",
      "Cell \u001B[0;32mIn[15], line 19\u001B[0m\n\u001B[1;32m      8\u001B[0m pf \u001B[38;5;241m=\u001B[39m \u001B[38;5;124mf\u001B[39m\u001B[38;5;124m\"\u001B[39m\u001B[38;5;132;01m{\u001B[39;00mpd\u001B[38;5;132;01m}\u001B[39;00m\u001B[38;5;124m/\u001B[39m\u001B[38;5;132;01m{\u001B[39;00mname\u001B[38;5;132;01m}\u001B[39;00m\u001B[38;5;124m\"\u001B[39m\n\u001B[1;32m      9\u001B[0m cmd, intermediate_file \u001B[38;5;241m=\u001B[39m search_cmd(\n\u001B[1;32m     10\u001B[0m     df\u001B[38;5;241m=\u001B[39mdf,\n\u001B[1;32m     11\u001B[0m     pf\u001B[38;5;241m=\u001B[39mpf,\n\u001B[0;32m   (...)\u001B[0m\n\u001B[1;32m     17\u001B[0m     profile\u001B[38;5;241m=\u001B[39m\u001B[38;5;28;01mFalse\u001B[39;00m,\n\u001B[1;32m     18\u001B[0m )\n\u001B[0;32m---> 19\u001B[0m \u001B[43msubprocess\u001B[49m\u001B[38;5;241;43m.\u001B[39;49m\u001B[43mrun\u001B[49m\u001B[43m(\u001B[49m\u001B[43mcmd\u001B[49m\u001B[38;5;241;43m.\u001B[39;49m\u001B[43msplit\u001B[49m\u001B[43m(\u001B[49m\u001B[38;5;124;43m\"\u001B[39;49m\u001B[38;5;124;43m \u001B[39;49m\u001B[38;5;124;43m\"\u001B[39;49m\u001B[43m)\u001B[49m\u001B[43m)\u001B[49m\n",
      "File \u001B[0;32m/usr/lib/python3.10/subprocess.py:503\u001B[0m, in \u001B[0;36mrun\u001B[0;34m(input, capture_output, timeout, check, *popenargs, **kwargs)\u001B[0m\n\u001B[1;32m    501\u001B[0m \u001B[38;5;28;01mwith\u001B[39;00m Popen(\u001B[38;5;241m*\u001B[39mpopenargs, \u001B[38;5;241m*\u001B[39m\u001B[38;5;241m*\u001B[39mkwargs) \u001B[38;5;28;01mas\u001B[39;00m process:\n\u001B[1;32m    502\u001B[0m     \u001B[38;5;28;01mtry\u001B[39;00m:\n\u001B[0;32m--> 503\u001B[0m         stdout, stderr \u001B[38;5;241m=\u001B[39m \u001B[43mprocess\u001B[49m\u001B[38;5;241;43m.\u001B[39;49m\u001B[43mcommunicate\u001B[49m\u001B[43m(\u001B[49m\u001B[38;5;28;43minput\u001B[39;49m\u001B[43m,\u001B[49m\u001B[43m \u001B[49m\u001B[43mtimeout\u001B[49m\u001B[38;5;241;43m=\u001B[39;49m\u001B[43mtimeout\u001B[49m\u001B[43m)\u001B[49m\n\u001B[1;32m    504\u001B[0m     \u001B[38;5;28;01mexcept\u001B[39;00m TimeoutExpired \u001B[38;5;28;01mas\u001B[39;00m exc:\n\u001B[1;32m    505\u001B[0m         process\u001B[38;5;241m.\u001B[39mkill()\n",
      "File \u001B[0;32m/usr/lib/python3.10/subprocess.py:1144\u001B[0m, in \u001B[0;36mPopen.communicate\u001B[0;34m(self, input, timeout)\u001B[0m\n\u001B[1;32m   1142\u001B[0m         stderr \u001B[38;5;241m=\u001B[39m \u001B[38;5;28mself\u001B[39m\u001B[38;5;241m.\u001B[39mstderr\u001B[38;5;241m.\u001B[39mread()\n\u001B[1;32m   1143\u001B[0m         \u001B[38;5;28mself\u001B[39m\u001B[38;5;241m.\u001B[39mstderr\u001B[38;5;241m.\u001B[39mclose()\n\u001B[0;32m-> 1144\u001B[0m     \u001B[38;5;28;43mself\u001B[39;49m\u001B[38;5;241;43m.\u001B[39;49m\u001B[43mwait\u001B[49m\u001B[43m(\u001B[49m\u001B[43m)\u001B[49m\n\u001B[1;32m   1145\u001B[0m \u001B[38;5;28;01melse\u001B[39;00m:\n\u001B[1;32m   1146\u001B[0m     \u001B[38;5;28;01mif\u001B[39;00m timeout \u001B[38;5;129;01mis\u001B[39;00m \u001B[38;5;129;01mnot\u001B[39;00m \u001B[38;5;28;01mNone\u001B[39;00m:\n",
      "File \u001B[0;32m/usr/lib/python3.10/subprocess.py:1207\u001B[0m, in \u001B[0;36mPopen.wait\u001B[0;34m(self, timeout)\u001B[0m\n\u001B[1;32m   1205\u001B[0m     endtime \u001B[38;5;241m=\u001B[39m _time() \u001B[38;5;241m+\u001B[39m timeout\n\u001B[1;32m   1206\u001B[0m \u001B[38;5;28;01mtry\u001B[39;00m:\n\u001B[0;32m-> 1207\u001B[0m     \u001B[38;5;28;01mreturn\u001B[39;00m \u001B[38;5;28;43mself\u001B[39;49m\u001B[38;5;241;43m.\u001B[39;49m\u001B[43m_wait\u001B[49m\u001B[43m(\u001B[49m\u001B[43mtimeout\u001B[49m\u001B[38;5;241;43m=\u001B[39;49m\u001B[43mtimeout\u001B[49m\u001B[43m)\u001B[49m\n\u001B[1;32m   1208\u001B[0m \u001B[38;5;28;01mexcept\u001B[39;00m \u001B[38;5;167;01mKeyboardInterrupt\u001B[39;00m:\n\u001B[1;32m   1209\u001B[0m     \u001B[38;5;66;03m# https://bugs.python.org/issue25942\u001B[39;00m\n\u001B[1;32m   1210\u001B[0m     \u001B[38;5;66;03m# The first keyboard interrupt waits briefly for the child to\u001B[39;00m\n\u001B[1;32m   1211\u001B[0m     \u001B[38;5;66;03m# exit under the common assumption that it also received the ^C\u001B[39;00m\n\u001B[1;32m   1212\u001B[0m     \u001B[38;5;66;03m# generated SIGINT and will exit rapidly.\u001B[39;00m\n\u001B[1;32m   1213\u001B[0m     \u001B[38;5;28;01mif\u001B[39;00m timeout \u001B[38;5;129;01mis\u001B[39;00m \u001B[38;5;129;01mnot\u001B[39;00m \u001B[38;5;28;01mNone\u001B[39;00m:\n",
      "File \u001B[0;32m/usr/lib/python3.10/subprocess.py:1941\u001B[0m, in \u001B[0;36mPopen._wait\u001B[0;34m(self, timeout)\u001B[0m\n\u001B[1;32m   1939\u001B[0m \u001B[38;5;28;01mif\u001B[39;00m \u001B[38;5;28mself\u001B[39m\u001B[38;5;241m.\u001B[39mreturncode \u001B[38;5;129;01mis\u001B[39;00m \u001B[38;5;129;01mnot\u001B[39;00m \u001B[38;5;28;01mNone\u001B[39;00m:\n\u001B[1;32m   1940\u001B[0m     \u001B[38;5;28;01mbreak\u001B[39;00m  \u001B[38;5;66;03m# Another thread waited.\u001B[39;00m\n\u001B[0;32m-> 1941\u001B[0m (pid, sts) \u001B[38;5;241m=\u001B[39m \u001B[38;5;28;43mself\u001B[39;49m\u001B[38;5;241;43m.\u001B[39;49m\u001B[43m_try_wait\u001B[49m\u001B[43m(\u001B[49m\u001B[38;5;241;43m0\u001B[39;49m\u001B[43m)\u001B[49m\n\u001B[1;32m   1942\u001B[0m \u001B[38;5;66;03m# Check the pid and loop as waitpid has been known to\u001B[39;00m\n\u001B[1;32m   1943\u001B[0m \u001B[38;5;66;03m# return 0 even without WNOHANG in odd situations.\u001B[39;00m\n\u001B[1;32m   1944\u001B[0m \u001B[38;5;66;03m# http://bugs.python.org/issue14396.\u001B[39;00m\n\u001B[1;32m   1945\u001B[0m \u001B[38;5;28;01mif\u001B[39;00m pid \u001B[38;5;241m==\u001B[39m \u001B[38;5;28mself\u001B[39m\u001B[38;5;241m.\u001B[39mpid:\n",
      "File \u001B[0;32m/usr/lib/python3.10/subprocess.py:1899\u001B[0m, in \u001B[0;36mPopen._try_wait\u001B[0;34m(self, wait_flags)\u001B[0m\n\u001B[1;32m   1897\u001B[0m \u001B[38;5;250m\u001B[39m\u001B[38;5;124;03m\"\"\"All callers to this function MUST hold self._waitpid_lock.\"\"\"\u001B[39;00m\n\u001B[1;32m   1898\u001B[0m \u001B[38;5;28;01mtry\u001B[39;00m:\n\u001B[0;32m-> 1899\u001B[0m     (pid, sts) \u001B[38;5;241m=\u001B[39m \u001B[43mos\u001B[49m\u001B[38;5;241;43m.\u001B[39;49m\u001B[43mwaitpid\u001B[49m\u001B[43m(\u001B[49m\u001B[38;5;28;43mself\u001B[39;49m\u001B[38;5;241;43m.\u001B[39;49m\u001B[43mpid\u001B[49m\u001B[43m,\u001B[49m\u001B[43m \u001B[49m\u001B[43mwait_flags\u001B[49m\u001B[43m)\u001B[49m\n\u001B[1;32m   1900\u001B[0m \u001B[38;5;28;01mexcept\u001B[39;00m \u001B[38;5;167;01mChildProcessError\u001B[39;00m:\n\u001B[1;32m   1901\u001B[0m     \u001B[38;5;66;03m# This happens if SIGCLD is set to be ignored or waiting\u001B[39;00m\n\u001B[1;32m   1902\u001B[0m     \u001B[38;5;66;03m# for child processes has otherwise been disabled for our\u001B[39;00m\n\u001B[1;32m   1903\u001B[0m     \u001B[38;5;66;03m# process.  This child is dead, we can't get the status.\u001B[39;00m\n\u001B[1;32m   1904\u001B[0m     pid \u001B[38;5;241m=\u001B[39m \u001B[38;5;28mself\u001B[39m\u001B[38;5;241m.\u001B[39mpid\n",
      "\u001B[0;31mKeyboardInterrupt\u001B[0m: "
     ]
    }
   ],
   "source": [
    "base_dir = \"../benchmarks/goose\"\n",
    "domain=\"blocks\"\n",
    "test_file = \"val\"\n",
    "model_file = \"trained_models_gnn/rank-blocks-L3.dt\"\n",
    "df = f\"{base_dir}/{domain}/domain.pddl\"\n",
    "pd = f\"{base_dir}/{domain}/{test_file}\"\n",
    "for name in os.listdir(pd):\n",
    "    pf = f\"{pd}/{name}\"\n",
    "    cmd, intermediate_file = search_cmd(\n",
    "        df=df,\n",
    "        pf=pf,\n",
    "        m=model_file,\n",
    "        model_type=\"gnn\",\n",
    "        planner=\"fd\",\n",
    "        search=\"gbbfs\",\n",
    "        seed=0,\n",
    "        profile=False,\n",
    "    )\n",
    "    subprocess.run(cmd.split(\" \"))\n"
   ],
   "metadata": {
    "collapsed": false
   }
  },
  {
   "cell_type": "code",
   "execution_count": 11,
   "outputs": [
    {
     "name": "stdout",
     "output_type": "stream",
     "text": [
      "INFO     planner time limit: None\n",
      "INFO     planner memory limit: None\n",
      "\n",
      "INFO     Running translator.\n",
      "INFO     translator stdin: None\n",
      "INFO     translator time limit: None\n",
      "INFO     translator memory limit: None\n",
      "INFO     translator command line string: /home/ming/PycharmProjects/goose/venv/bin/python3 /home/ming/PycharmProjects/goose/downward/builds/release/bin/translate/translate.py ../benchmarks/ipc2023-learning-benchmarks/blocksworld/domain.pddl ../benchmarks/ipc2023-learning-benchmarks/blocksworld/testing/easy/p07.pddl --sas-file sas_files/fd_-benchmarks-ipc2023-learning-benchmarks-blocksworld-testing-easy-p07_batch_eager_greedy_rank-blocks-L3.sas_file\n",
      "Parsing...\n",
      "Parsing: [0.000s CPU, 0.002s wall-clock]\n",
      "Normalizing task... [0.000s CPU, 0.000s wall-clock]\n",
      "Instantiating...\n",
      "Generating Datalog program... [0.000s CPU, 0.000s wall-clock]\n",
      "Normalizing Datalog program...\n",
      "Normalizing Datalog program: [0.000s CPU, 0.001s wall-clock]\n",
      "Preparing model... [0.000s CPU, 0.000s wall-clock]\n",
      "Generated 21 rules.\n",
      "Computing model... [0.000s CPU, 0.002s wall-clock]\n",
      "372 relevant atoms\n",
      "250 auxiliary atoms\n",
      "622 final queue length\n",
      "1044 total queue pushes\n",
      "Completing instantiation... [0.010s CPU, 0.007s wall-clock]\n",
      "Instantiating: [0.010s CPU, 0.011s wall-clock]\n",
      "Computing fact groups...\n",
      "Finding invariants...\n",
      "10 initial candidates\n",
      "Finding invariants: [0.000s CPU, 0.003s wall-clock]\n",
      "Checking invariant weight... [0.000s CPU, 0.000s wall-clock]\n",
      "Instantiating groups... [0.000s CPU, 0.000s wall-clock]\n",
      "Collecting mutex groups... [0.000s CPU, 0.000s wall-clock]\n",
      "Choosing groups...\n",
      "11 uncovered facts\n",
      "Choosing groups: [0.000s CPU, 0.000s wall-clock]\n",
      "Building translation key... [0.000s CPU, 0.000s wall-clock]\n",
      "Computing fact groups: [0.000s CPU, 0.004s wall-clock]\n",
      "Building STRIPS to SAS dictionary... [0.000s CPU, 0.000s wall-clock]\n",
      "Building dictionary for full mutex groups... [0.000s CPU, 0.000s wall-clock]\n",
      "Building mutex information...\n",
      "Building mutex information: [0.000s CPU, 0.000s wall-clock]\n",
      "Translating task...\n",
      "Processing axioms...\n",
      "Simplifying axioms... [0.000s CPU, 0.000s wall-clock]\n",
      "Translator axioms removed by simplifying: 0\n",
      "Computing negative axioms... [0.000s CPU, 0.000s wall-clock]\n",
      "Processing axioms: [0.000s CPU, 0.000s wall-clock]\n",
      "Translating task: [0.010s CPU, 0.005s wall-clock]\n",
      "290 effect conditions simplified\n",
      "0 implied preconditions added\n",
      "Detecting unreachable propositions...\n",
      "0 operators removed\n",
      "0 axioms removed\n",
      "20 propositions removed\n",
      "Detecting unreachable propositions: [0.000s CPU, 0.006s wall-clock]\n",
      "Reordering and filtering variables...\n",
      "21 of 21 variables necessary.\n",
      "11 of 21 mutex groups necessary.\n",
      "200 of 200 operators necessary.\n",
      "0 of 0 axiom rules necessary.\n",
      "Reordering and filtering variables: [0.000s CPU, 0.001s wall-clock]\n",
      "Translator variables: 21\n",
      "Translator derived variables: 0\n",
      "Translator facts: 132\n",
      "Translator goal facts: 11\n",
      "Translator mutex groups: 11\n",
      "Translator total mutex groups size: 121\n",
      "Translator operators: 200\n",
      "Translator axioms: 0\n",
      "Translator task size: 1755\n",
      "Translator peak memory: 43836 KB\n",
      "Writing output... [0.010s CPU, 0.001s wall-clock]\n",
      "Done! [0.030s CPU, 0.031s wall-clock]\n",
      "translate exit code: 0\n",
      "\n",
      "INFO     Running search (release).\n",
      "INFO     search stdin: sas_files/fd_-benchmarks-ipc2023-learning-benchmarks-blocksworld-testing-easy-p07_batch_eager_greedy_rank-blocks-L3.sas_file\n",
      "INFO     search time limit: 600000s\n",
      "INFO     search memory limit: None\n",
      "INFO     search command line string: /home/ming/PycharmProjects/goose/downward/builds/release/bin/downward --search 'batch_eager_greedy([goose(model_path=\"trained_models_gnn/rank-blocks-L3.dt\",model_type=\"gnn\",domain_file=\"../benchmarks/ipc2023-learning-benchmarks/blocksworld/domain.pddl\",instance_file=\"../benchmarks/ipc2023-learning-benchmarks/blocksworld/testing/easy/p07.pddl\")])' --internal-plan-file plans/fd_-benchmarks-ipc2023-learning-benchmarks-blocksworld-testing-easy-p07_batch_eager_greedy_rank-blocks-L3.plan < sas_files/fd_-benchmarks-ipc2023-learning-benchmarks-blocksworld-testing-easy-p07_batch_eager_greedy_rank-blocks-L3.sas_file\n",
      "[t=0.00118357s, 13740 KB] reading input...\n",
      "[t=0.00223989s, 13872 KB] done reading input!\n",
      "GOOSE path is /home/ming/PycharmProjects/goose/learner\n",
      "Trying to load model from file trained_models_gnn/rank-blocks-L3.dt ...\n",
      "Loaded model!\n",
      "[t=2.67616s, 4380828 KB] Building successor generator...done!\n",
      "[t=2.67628s, 4380828 KB] peak memory difference for successor generator creation: 0 KB\n",
      "[t=2.67629s, 4380828 KB] time for successor generation creation: 5.5912e-05s\n",
      "[t=2.6763s, 4380828 KB] Variables: 21\n",
      "[t=2.67631s, 4380828 KB] FactPairs: 132\n",
      "[t=2.67632s, 4380828 KB] Bytes per state: 8\n",
      "[t=2.67635s, 4380828 KB] Conducting best first search without reopening closed nodes, (real) bound = 2147483647\n",
      "[t=2.76363s, 5654788 KB] New best heuristic value for goose(model_path=trained_models_gnn/rank-blocks-L3.dt,model_type=gnn,domain_file=../benchmarks/ipc2023-learning-benchmarks/blocksworld/domain.pddl,instance_file=../benchmarks/ipc2023-learning-benchmarks/blocksworld/testing/easy/p07.pddl): 9963721\n",
      "[t=2.76368s, 5654788 KB] g=0, 1 evaluated, 0 expanded\n",
      "Peak memory: 5654788 KB\n",
      "caught signal 2 -- exiting\n"
     ]
    },
    {
     "name": "stderr",
     "output_type": "stream",
     "text": [
      "Traceback (most recent call last):\n",
      "  File \"/home/ming/PycharmProjects/goose/learner/./../downward/fast-downward.py\", line 5, in <module>\n",
      "    main()\n",
      "  File \"/home/ming/PycharmProjects/goose/downward/driver/main.py\", line 41, in main\n",
      "    (exitcode, continue_execution) = run_components.run_search(args)\n",
      "  File \"/home/ming/PycharmProjects/goose/downward/driver/run_components.py\", line 123, in run_search\n",
      "    call.check_call(\n",
      "  File \"/home/ming/PycharmProjects/goose/downward/driver/call.py\", line 57, in check_call\n",
      "    return subprocess.check_call(cmd, stdin=stdin_file, **kwargs)\n",
      "  File \"/usr/lib/python3.10/subprocess.py\", line 364, in check_call\n",
      "    retcode = call(*popenargs, **kwargs)\n",
      "  File \"/usr/lib/python3.10/subprocess.py\", line 347, in call\n",
      "    return p.wait(timeout=timeout)\n",
      "  File \"/usr/lib/python3.10/subprocess.py\", line 1207, in wait\n",
      "    return self._wait(timeout=timeout)\n",
      "  File \"/usr/lib/python3.10/subprocess.py\", line 1941, in _wait\n",
      "    (pid, sts) = self._try_wait(0)\n",
      "  File \"/usr/lib/python3.10/subprocess.py\", line 1899, in _try_wait\n",
      "    (pid, sts) = os.waitpid(self.pid, wait_flags)\n",
      "KeyboardInterrupt\n"
     ]
    },
    {
     "ename": "KeyboardInterrupt",
     "evalue": "",
     "output_type": "error",
     "traceback": [
      "\u001B[0;31m---------------------------------------------------------------------------\u001B[0m",
      "\u001B[0;31mKeyboardInterrupt\u001B[0m                         Traceback (most recent call last)",
      "Cell \u001B[0;32mIn[11], line 13\u001B[0m\n\u001B[1;32m      1\u001B[0m pf \u001B[38;5;241m=\u001B[39m \u001B[38;5;124mf\u001B[39m\u001B[38;5;124m\"\u001B[39m\u001B[38;5;132;01m{\u001B[39;00mpd\u001B[38;5;132;01m}\u001B[39;00m\u001B[38;5;124m/p07.pddl\u001B[39m\u001B[38;5;124m\"\u001B[39m\n\u001B[1;32m      2\u001B[0m cmd, intermediate_file \u001B[38;5;241m=\u001B[39m search_cmd(\n\u001B[1;32m      3\u001B[0m         df\u001B[38;5;241m=\u001B[39mdf,\n\u001B[1;32m      4\u001B[0m         pf\u001B[38;5;241m=\u001B[39mpf,\n\u001B[0;32m   (...)\u001B[0m\n\u001B[1;32m     10\u001B[0m         profile\u001B[38;5;241m=\u001B[39m\u001B[38;5;28;01mFalse\u001B[39;00m,\n\u001B[1;32m     11\u001B[0m     )\n\u001B[0;32m---> 13\u001B[0m \u001B[43msubprocess\u001B[49m\u001B[38;5;241;43m.\u001B[39;49m\u001B[43mrun\u001B[49m\u001B[43m(\u001B[49m\u001B[43mcmd\u001B[49m\u001B[38;5;241;43m.\u001B[39;49m\u001B[43msplit\u001B[49m\u001B[43m(\u001B[49m\u001B[38;5;124;43m\"\u001B[39;49m\u001B[38;5;124;43m \u001B[39;49m\u001B[38;5;124;43m\"\u001B[39;49m\u001B[43m)\u001B[49m\u001B[43m)\u001B[49m\n",
      "File \u001B[0;32m/usr/lib/python3.10/subprocess.py:503\u001B[0m, in \u001B[0;36mrun\u001B[0;34m(input, capture_output, timeout, check, *popenargs, **kwargs)\u001B[0m\n\u001B[1;32m    501\u001B[0m \u001B[38;5;28;01mwith\u001B[39;00m Popen(\u001B[38;5;241m*\u001B[39mpopenargs, \u001B[38;5;241m*\u001B[39m\u001B[38;5;241m*\u001B[39mkwargs) \u001B[38;5;28;01mas\u001B[39;00m process:\n\u001B[1;32m    502\u001B[0m     \u001B[38;5;28;01mtry\u001B[39;00m:\n\u001B[0;32m--> 503\u001B[0m         stdout, stderr \u001B[38;5;241m=\u001B[39m \u001B[43mprocess\u001B[49m\u001B[38;5;241;43m.\u001B[39;49m\u001B[43mcommunicate\u001B[49m\u001B[43m(\u001B[49m\u001B[38;5;28;43minput\u001B[39;49m\u001B[43m,\u001B[49m\u001B[43m \u001B[49m\u001B[43mtimeout\u001B[49m\u001B[38;5;241;43m=\u001B[39;49m\u001B[43mtimeout\u001B[49m\u001B[43m)\u001B[49m\n\u001B[1;32m    504\u001B[0m     \u001B[38;5;28;01mexcept\u001B[39;00m TimeoutExpired \u001B[38;5;28;01mas\u001B[39;00m exc:\n\u001B[1;32m    505\u001B[0m         process\u001B[38;5;241m.\u001B[39mkill()\n",
      "File \u001B[0;32m/usr/lib/python3.10/subprocess.py:1144\u001B[0m, in \u001B[0;36mPopen.communicate\u001B[0;34m(self, input, timeout)\u001B[0m\n\u001B[1;32m   1142\u001B[0m         stderr \u001B[38;5;241m=\u001B[39m \u001B[38;5;28mself\u001B[39m\u001B[38;5;241m.\u001B[39mstderr\u001B[38;5;241m.\u001B[39mread()\n\u001B[1;32m   1143\u001B[0m         \u001B[38;5;28mself\u001B[39m\u001B[38;5;241m.\u001B[39mstderr\u001B[38;5;241m.\u001B[39mclose()\n\u001B[0;32m-> 1144\u001B[0m     \u001B[38;5;28;43mself\u001B[39;49m\u001B[38;5;241;43m.\u001B[39;49m\u001B[43mwait\u001B[49m\u001B[43m(\u001B[49m\u001B[43m)\u001B[49m\n\u001B[1;32m   1145\u001B[0m \u001B[38;5;28;01melse\u001B[39;00m:\n\u001B[1;32m   1146\u001B[0m     \u001B[38;5;28;01mif\u001B[39;00m timeout \u001B[38;5;129;01mis\u001B[39;00m \u001B[38;5;129;01mnot\u001B[39;00m \u001B[38;5;28;01mNone\u001B[39;00m:\n",
      "File \u001B[0;32m/usr/lib/python3.10/subprocess.py:1207\u001B[0m, in \u001B[0;36mPopen.wait\u001B[0;34m(self, timeout)\u001B[0m\n\u001B[1;32m   1205\u001B[0m     endtime \u001B[38;5;241m=\u001B[39m _time() \u001B[38;5;241m+\u001B[39m timeout\n\u001B[1;32m   1206\u001B[0m \u001B[38;5;28;01mtry\u001B[39;00m:\n\u001B[0;32m-> 1207\u001B[0m     \u001B[38;5;28;01mreturn\u001B[39;00m \u001B[38;5;28;43mself\u001B[39;49m\u001B[38;5;241;43m.\u001B[39;49m\u001B[43m_wait\u001B[49m\u001B[43m(\u001B[49m\u001B[43mtimeout\u001B[49m\u001B[38;5;241;43m=\u001B[39;49m\u001B[43mtimeout\u001B[49m\u001B[43m)\u001B[49m\n\u001B[1;32m   1208\u001B[0m \u001B[38;5;28;01mexcept\u001B[39;00m \u001B[38;5;167;01mKeyboardInterrupt\u001B[39;00m:\n\u001B[1;32m   1209\u001B[0m     \u001B[38;5;66;03m# https://bugs.python.org/issue25942\u001B[39;00m\n\u001B[1;32m   1210\u001B[0m     \u001B[38;5;66;03m# The first keyboard interrupt waits briefly for the child to\u001B[39;00m\n\u001B[1;32m   1211\u001B[0m     \u001B[38;5;66;03m# exit under the common assumption that it also received the ^C\u001B[39;00m\n\u001B[1;32m   1212\u001B[0m     \u001B[38;5;66;03m# generated SIGINT and will exit rapidly.\u001B[39;00m\n\u001B[1;32m   1213\u001B[0m     \u001B[38;5;28;01mif\u001B[39;00m timeout \u001B[38;5;129;01mis\u001B[39;00m \u001B[38;5;129;01mnot\u001B[39;00m \u001B[38;5;28;01mNone\u001B[39;00m:\n",
      "File \u001B[0;32m/usr/lib/python3.10/subprocess.py:1941\u001B[0m, in \u001B[0;36mPopen._wait\u001B[0;34m(self, timeout)\u001B[0m\n\u001B[1;32m   1939\u001B[0m \u001B[38;5;28;01mif\u001B[39;00m \u001B[38;5;28mself\u001B[39m\u001B[38;5;241m.\u001B[39mreturncode \u001B[38;5;129;01mis\u001B[39;00m \u001B[38;5;129;01mnot\u001B[39;00m \u001B[38;5;28;01mNone\u001B[39;00m:\n\u001B[1;32m   1940\u001B[0m     \u001B[38;5;28;01mbreak\u001B[39;00m  \u001B[38;5;66;03m# Another thread waited.\u001B[39;00m\n\u001B[0;32m-> 1941\u001B[0m (pid, sts) \u001B[38;5;241m=\u001B[39m \u001B[38;5;28;43mself\u001B[39;49m\u001B[38;5;241;43m.\u001B[39;49m\u001B[43m_try_wait\u001B[49m\u001B[43m(\u001B[49m\u001B[38;5;241;43m0\u001B[39;49m\u001B[43m)\u001B[49m\n\u001B[1;32m   1942\u001B[0m \u001B[38;5;66;03m# Check the pid and loop as waitpid has been known to\u001B[39;00m\n\u001B[1;32m   1943\u001B[0m \u001B[38;5;66;03m# return 0 even without WNOHANG in odd situations.\u001B[39;00m\n\u001B[1;32m   1944\u001B[0m \u001B[38;5;66;03m# http://bugs.python.org/issue14396.\u001B[39;00m\n\u001B[1;32m   1945\u001B[0m \u001B[38;5;28;01mif\u001B[39;00m pid \u001B[38;5;241m==\u001B[39m \u001B[38;5;28mself\u001B[39m\u001B[38;5;241m.\u001B[39mpid:\n",
      "File \u001B[0;32m/usr/lib/python3.10/subprocess.py:1899\u001B[0m, in \u001B[0;36mPopen._try_wait\u001B[0;34m(self, wait_flags)\u001B[0m\n\u001B[1;32m   1897\u001B[0m \u001B[38;5;250m\u001B[39m\u001B[38;5;124;03m\"\"\"All callers to this function MUST hold self._waitpid_lock.\"\"\"\u001B[39;00m\n\u001B[1;32m   1898\u001B[0m \u001B[38;5;28;01mtry\u001B[39;00m:\n\u001B[0;32m-> 1899\u001B[0m     (pid, sts) \u001B[38;5;241m=\u001B[39m \u001B[43mos\u001B[49m\u001B[38;5;241;43m.\u001B[39;49m\u001B[43mwaitpid\u001B[49m\u001B[43m(\u001B[49m\u001B[38;5;28;43mself\u001B[39;49m\u001B[38;5;241;43m.\u001B[39;49m\u001B[43mpid\u001B[49m\u001B[43m,\u001B[49m\u001B[43m \u001B[49m\u001B[43mwait_flags\u001B[49m\u001B[43m)\u001B[49m\n\u001B[1;32m   1900\u001B[0m \u001B[38;5;28;01mexcept\u001B[39;00m \u001B[38;5;167;01mChildProcessError\u001B[39;00m:\n\u001B[1;32m   1901\u001B[0m     \u001B[38;5;66;03m# This happens if SIGCLD is set to be ignored or waiting\u001B[39;00m\n\u001B[1;32m   1902\u001B[0m     \u001B[38;5;66;03m# for child processes has otherwise been disabled for our\u001B[39;00m\n\u001B[1;32m   1903\u001B[0m     \u001B[38;5;66;03m# process.  This child is dead, we can't get the status.\u001B[39;00m\n\u001B[1;32m   1904\u001B[0m     pid \u001B[38;5;241m=\u001B[39m \u001B[38;5;28mself\u001B[39m\u001B[38;5;241m.\u001B[39mpid\n",
      "\u001B[0;31mKeyboardInterrupt\u001B[0m: "
     ]
    }
   ],
   "source": [
    "base_dir = \"../benchmarks/ipc2023-learning-benchmarks\"\n",
    "test_file = \"testing/easy\"\n",
    "pf = f\"{pd}/p07.pddl\"\n",
    "cmd, intermediate_file = search_cmd(\n",
    "        df=df,\n",
    "        pf=pf,\n",
    "        m=model_file,\n",
    "        model_type=\"gnn\",\n",
    "        planner=\"fd\",\n",
    "        search=\"gbbfs\",\n",
    "        seed=0,\n",
    "        profile=False,\n",
    "    )\n",
    "\n",
    "subprocess.run(cmd.split(\" \"))"
   ],
   "metadata": {
    "collapsed": false
   }
  },
  {
   "cell_type": "code",
   "execution_count": 34,
   "outputs": [
    {
     "name": "stdout",
     "output_type": "stream",
     "text": [
      "logs/from_server/result/rank-blocks-L7-2023-10-01T20:01:39.474564/blocks\n",
      "7\n",
      "logs/from_server/result/goose-blocks-2023-10-02T10:31:54.849185/blocks\n",
      "60\n",
      "logs/from_server/result/goose-blocks-2023-09-30T14:57:54.247908/blocks\n",
      "58\n",
      "logs/from_server/result/rank-blocks-L3-2023-09-28T17:06:53.073888/blocks\n",
      "0\n",
      "logs/from_server/result/rank-blocks-L6-2023-09-30T22:03:01.838714/blocks\n",
      "14\n",
      "logs/from_server/result/rank-blocks-L4-2023-09-29T03:35:58.203073/blocks\n",
      "8\n",
      "logs/from_server/result/rank-blocks-L5-2023-09-30T00:29:04.704984/blocks\n",
      "5\n",
      "logs/from_server/result/goose-blocks-2023-09-28T22:31:32.467598/blocks\n",
      "83\n",
      "logs/from_server/result/goose-blocks-2023-09-29T17:35:20.056288/blocks\n",
      "66\n",
      "logs/from_server/result/goose-blocks-2023-10-01T12:29:20.975791/blocks\n",
      "62\n"
     ]
    }
   ],
   "source": [
    "log_root = \"logs/from_server/result\"\n",
    "\n",
    "for exp_dir in os.listdir(log_root):\n",
    "    count = 0\n",
    "    blocks_root = f\"{log_root}/{exp_dir}/blocks\"\n",
    "    if not os.path.exists(blocks_root):\n",
    "        continue\n",
    "    # if not os.listdir(blocks_root):\n",
    "    #     print(os.listdir(blocks_root))\n",
    "    # continue\n",
    "    print(blocks_root)\n",
    "    for file in os.listdir(blocks_root):\n",
    "        if file == \"blocks.json\":\n",
    "            continue\n",
    "        with open(f\"{blocks_root}/{file}\") as f:\n",
    "            if \"Solution found.\" in f.read():\n",
    "                count += 1\n",
    "\n",
    "    print(count)"
   ],
   "metadata": {
    "collapsed": false
   }
  },
  {
   "cell_type": "code",
   "execution_count": 1,
   "outputs": [
    {
     "name": "stdout",
     "output_type": "stream",
     "text": [
      "Loading model...\n",
      "Model loaded!\n",
      "Calculating Heuristic using fd ...\n",
      "true time: 0.4707205295562744 seconds\n",
      "llg created!\n",
      "time taken: 0.0216s\n",
      "num nodes: 87\n",
      "num edges: 182\n",
      "graph density: 0.048650093557872226\n"
     ]
    },
    {
     "ename": "AttributeError",
     "evalue": "'NoneType' object has no attribute 'state_to_tensor'",
     "output_type": "error",
     "traceback": [
      "\u001B[0;31m---------------------------------------------------------------------------\u001B[0m",
      "\u001B[0;31mAttributeError\u001B[0m                            Traceback (most recent call last)",
      "Cell \u001B[0;32mIn[1], line 33\u001B[0m\n\u001B[1;32m     30\u001B[0m plan_states_only \u001B[38;5;241m=\u001B[39m [(rep\u001B[38;5;241m.\u001B[39mstr_to_state(state[\u001B[38;5;241m0\u001B[39m]), state[\u001B[38;5;241m0\u001B[39m]) \u001B[38;5;28;01mfor\u001B[39;00m state \u001B[38;5;129;01min\u001B[39;00m states \u001B[38;5;28;01mif\u001B[39;00m state[\u001B[38;5;241m1\u001B[39m][\u001B[38;5;241m1\u001B[39m]\u001B[38;5;241m==\u001B[39m\u001B[38;5;241m0\u001B[39m]\n\u001B[1;32m     31\u001B[0m states_real_heu \u001B[38;5;241m=\u001B[39m [problem\u001B[38;5;241m.\u001B[39mget_state_heuristic(state[\u001B[38;5;241m0\u001B[39m]) \u001B[38;5;28;01mfor\u001B[39;00m state \u001B[38;5;129;01min\u001B[39;00m states \u001B[38;5;28;01mif\u001B[39;00m state[\u001B[38;5;241m1\u001B[39m][\u001B[38;5;241m1\u001B[39m] \u001B[38;5;241m==\u001B[39m \u001B[38;5;241m0\u001B[39m]\n\u001B[0;32m---> 33\u001B[0m predictions \u001B[38;5;241m=\u001B[39m \u001B[43mmodel\u001B[49m\u001B[38;5;241;43m.\u001B[39;49m\u001B[43mh_batch\u001B[49m\u001B[43m(\u001B[49m\u001B[43mstates_only\u001B[49m\u001B[43m)\u001B[49m\n\u001B[1;32m     35\u001B[0m coord_to_heu \u001B[38;5;241m=\u001B[39m np\u001B[38;5;241m.\u001B[39marray([(state[\u001B[38;5;241m1\u001B[39m][\u001B[38;5;241m0\u001B[39m], state[\u001B[38;5;241m1\u001B[39m][\u001B[38;5;241m1\u001B[39m],predictions[i]) \u001B[38;5;28;01mfor\u001B[39;00m i, state \u001B[38;5;129;01min\u001B[39;00m \u001B[38;5;28menumerate\u001B[39m(states)])\n\u001B[1;32m     37\u001B[0m accuracy \u001B[38;5;241m=\u001B[39m {}\n",
      "File \u001B[0;32m~/PycharmProjects/goose/learner/gnns/elmpnn.py:217\u001B[0m, in \u001B[0;36mELMPNNBatchedRankerPredictor.h_batch\u001B[0;34m(self, states)\u001B[0m\n\u001B[1;32m    215\u001B[0m data_list \u001B[38;5;241m=\u001B[39m []\n\u001B[1;32m    216\u001B[0m \u001B[38;5;28;01mfor\u001B[39;00m state \u001B[38;5;129;01min\u001B[39;00m states:\n\u001B[0;32m--> 217\u001B[0m     x, edge_index \u001B[38;5;241m=\u001B[39m \u001B[38;5;28;43mself\u001B[39;49m\u001B[38;5;241;43m.\u001B[39;49m\u001B[43mrep\u001B[49m\u001B[38;5;241;43m.\u001B[39;49m\u001B[43mstate_to_tensor\u001B[49m(state)\n\u001B[1;32m    218\u001B[0m     data_list\u001B[38;5;241m.\u001B[39mappend(Data(x\u001B[38;5;241m=\u001B[39mx, edge_index\u001B[38;5;241m=\u001B[39medge_index))\n\u001B[1;32m    219\u001B[0m loader \u001B[38;5;241m=\u001B[39m DataLoader(dataset\u001B[38;5;241m=\u001B[39mdata_list, batch_size\u001B[38;5;241m=\u001B[39m\u001B[38;5;28mmin\u001B[39m(\u001B[38;5;28mlen\u001B[39m(data_list), \u001B[38;5;241m32\u001B[39m))\n",
      "\u001B[0;31mAttributeError\u001B[0m: 'NoneType' object has no attribute 'state_to_tensor'"
     ]
    }
   ],
   "source": [
    "from util.pyperplan_api import STRIPSProblem\n",
    "from dataset.graphs_ranker import get_state_data\n",
    "import matplotlib.pyplot as plt\n",
    "import numpy as np\n",
    "from representation import REPRESENTATIONS\n",
    "from util.save_load import load_gnn_model_and_setup, load_gnn_model\n",
    "\n",
    "base_dir = \"../benchmarks/goose\"\n",
    "domain=\"blocks\"\n",
    "test_file = \"train\"\n",
    "model_file = f\"trained_models_gnn/rank-{domain}-L4-coord.dt\"\n",
    "df = f\"{base_dir}/{domain}/domain.pddl\"\n",
    "pf = f\"{base_dir}/{domain}/{test_file}/blocks10-task01.pddl\"\n",
    "sf = f\"{base_dir}/{domain}/{test_file}_solution/blocks10-task01_1800.out\"\n",
    "# pf = f\"{base_dir}/{domain}/{test_file}/p-l10-c10-s2.pddl\"\n",
    "\n",
    "problem = STRIPSProblem(df, pf, sf)\n",
    "# problem.state_to_heuristic\n",
    "\n",
    "model, _ = load_gnn_model(model_file, ignore_subdir=True)\n",
    "# model = load_gnn_model_and_setup(model_file, df, pf)\n",
    "model.eval()\n",
    "\n",
    "# datalist = generate_graph_from_domain_problem_pddl(\"goose-blocks\", df, pf, None, \"llg\")\n",
    "states = get_state_data(f\"goose-{domain}\", df, pf, None, 5)\n",
    "\n",
    "rep = REPRESENTATIONS[\"llg\"](df, pf)\n",
    "rep.convert_to_pyg()\n",
    "states_only = [rep.str_to_state(state[0]) for state in states]\n",
    "plan_states_only = [(rep.str_to_state(state[0]), state[0]) for state in states if state[1][1]==0]\n",
    "states_real_heu = [problem.get_state_heuristic(state[0]) for state in states if state[1][1] == 0]\n",
    "\n",
    "predictions = model.h_batch(states_only)\n",
    "\n",
    "coord_to_heu = np.array([(state[1][0], state[1][1],predictions[i]) for i, state in enumerate(states)])\n",
    "\n",
    "accuracy = {}\n",
    "accuracy_on_plan = {}\n",
    "\n",
    "for i in range(max(coord_to_heu[:, 0])+1):\n",
    "    slice = coord_to_heu[coord_to_heu[:, 0] == i]\n",
    "\n",
    "    accuracy[states_real_heu[i]] = np.sum((slice[0, 2] - slice[:, 2])[1:] < 0)/(slice.shape[0]-1)\n",
    "\n",
    "    accuracy_on_plan[states_real_heu[i]] = np.sum((slice[0, 2] - slice[1, 2]) < 0)\n",
    "\n",
    "print(sum(accuracy.values())/len(accuracy))\n",
    "print(accuracy_on_plan)\n",
    "\n",
    "\n",
    "plt.bar(accuracy.keys(), accuracy.values())\n",
    "plt.show()\n",
    "print(sum(accuracy_on_plan.values())/len(accuracy_on_plan))\n",
    "plt.bar(accuracy_on_plan.keys(), accuracy_on_plan.values())\n",
    "plt.show()"
   ],
   "metadata": {
    "collapsed": false
   }
  },
  {
   "cell_type": "code",
   "execution_count": 37,
   "outputs": [
    {
     "data": {
      "text/plain": "0.046747967479674794"
     },
     "execution_count": 37,
     "metadata": {},
     "output_type": "execute_result"
    }
   ],
   "source": [
    "from torch_geometric.data import DataLoader, Data\n",
    "from dataset.dataset import ByProblemDataset, BatchSampler\n",
    "from util.node_features import add_features\n",
    "\n",
    "data_list = []\n",
    "# for state, s_o in plan_states_only:\n",
    "plan_states = [(rep.str_to_state(state[0]), state) for state in states]\n",
    "for state, s_o in plan_states:\n",
    "    x, edge_index = rep.state_to_tensor(state)\n",
    "    data_list.append(Data(x=x, y=problem.get_state_heuristic(s_o[0]), edge_index=edge_index, p_idx=0, coord_x=s_o[1][0],  coord_y=s_o[1][1]))\n",
    "loader = DataLoader(dataset=data_list, batch_size=len(data_list))\n",
    "hs_all = []\n",
    "for data in loader:\n",
    "    hs_all.append(model.forward(data)[0].detach().cpu().numpy())\n",
    "\n",
    "assert len(hs_all) == 1\n",
    "\n",
    "np.sum(hs_all[0] > 0.5) / len(data_list)\n",
    "\n",
    "\n"
   ],
   "metadata": {
    "collapsed": false
   }
  },
  {
   "cell_type": "code",
   "execution_count": 14,
   "outputs": [
    {
     "data": {
      "text/plain": "Data(x=[119, 10], edge_index=[6], y=23, p_idx=0, coord_x=0, coord_y=0)"
     },
     "execution_count": 14,
     "metadata": {},
     "output_type": "execute_result"
    }
   ],
   "source": [
    "model.ranker.weight\n",
    "data_list[0]"
   ],
   "metadata": {
    "collapsed": false
   }
  },
  {
   "cell_type": "code",
   "execution_count": 15,
   "outputs": [
    {
     "data": {
      "text/plain": "Data(x=[121, 10], edge_index=[6], y=24, p_idx=0, coord_x=0, coord_y=1)"
     },
     "execution_count": 15,
     "metadata": {},
     "output_type": "execute_result"
    }
   ],
   "source": [
    "data_list[1]"
   ],
   "metadata": {
    "collapsed": false
   }
  },
  {
   "cell_type": "code",
   "execution_count": 17,
   "outputs": [
    {
     "data": {
      "text/plain": "([('on', ['b2', 'b9']),\n  ('clear', ['b6']),\n  ('clear', ['b8']),\n  ('on-table', ['b3']),\n  ('on-table', ['b4']),\n  ('on-table', ['b7']),\n  ('on', ['b6', 'b3']),\n  ('on', ['b5', 'b2']),\n  ('on', ['b9', 'b1']),\n  ('on', ['b8', 'b5']),\n  ('clear', ['b10']),\n  ('on', ['b1', 'b4']),\n  ('on', ['b10', 'b7']),\n  ('handempty', ())],\n (frozenset({'(clear b10)',\n             '(clear b6)',\n             '(clear b8)',\n             '(handempty)',\n             '(on b1 b4)',\n             '(on b10 b7)',\n             '(on b2 b9)',\n             '(on b5 b2)',\n             '(on b6 b3)',\n             '(on b8 b5)',\n             '(on b9 b1)',\n             '(on-table b3)',\n             '(on-table b4)',\n             '(on-table b7)'}),\n  [0, 1]))"
     },
     "execution_count": 17,
     "metadata": {},
     "output_type": "execute_result"
    }
   ],
   "source": [
    "plan_states[1]"
   ],
   "metadata": {
    "collapsed": false
   }
  },
  {
   "cell_type": "code",
   "execution_count": 22,
   "outputs": [
    {
     "name": "stdout",
     "output_type": "stream",
     "text": [
      "[0.4984187]\n"
     ]
    }
   ],
   "source": [
    "loader = DataLoader(dataset=data_list[0:2], batch_size=2)\n",
    "for data in loader:\n",
    "    print(model.forward(data)[0].detach().cpu().numpy())"
   ],
   "metadata": {
    "collapsed": false
   }
  },
  {
   "cell_type": "code",
   "execution_count": 27,
   "outputs": [
    {
     "name": "stdout",
     "output_type": "stream",
     "text": [
      "[[9.8151245]\n",
      " [9.8088   ]]\n"
     ]
    }
   ],
   "source": [
    "loader = DataLoader(dataset=data_list[0:2], batch_size=2)\n",
    "for data in loader:\n",
    "    print(model.ranker(model.model.forward(data.x, data.edge_index, data.batch)).detach().cpu().numpy()+10)"
   ],
   "metadata": {
    "collapsed": false
   }
  },
  {
   "cell_type": "code",
   "execution_count": 36,
   "outputs": [
    {
     "name": "stderr",
     "output_type": "stream",
     "text": [
      "/home/ming/PycharmProjects/goose/venv/lib/python3.10/site-packages/torch_geometric/deprecation.py:22: UserWarning: 'data.DataLoader' is deprecated, use 'loader.DataLoader' instead\n",
      "  warnings.warn(out)\n"
     ]
    },
    {
     "data": {
      "text/plain": "tensor([[0.4984]], grad_fn=<SigmoidBackward0>)"
     },
     "execution_count": 36,
     "metadata": {},
     "output_type": "execute_result"
    }
   ],
   "source": [
    "loader = DataLoader(dataset=data_list[0:2], batch_size=1)\n",
    "datas = []\n",
    "for data in loader:\n",
    "    datas.append(model.model.forward(data.x, data.edge_index, data.batch))\n",
    "model.ranker_act(model.ranker(datas[1] - datas[0]))\n",
    "# datas"
   ],
   "metadata": {
    "collapsed": false
   }
  },
  {
   "cell_type": "code",
   "execution_count": null,
   "outputs": [],
   "source": [],
   "metadata": {
    "collapsed": false
   }
  }
 ],
 "metadata": {
  "kernelspec": {
   "display_name": "Python 3",
   "language": "python",
   "name": "python3"
  },
  "language_info": {
   "codemirror_mode": {
    "name": "ipython",
    "version": 2
   },
   "file_extension": ".py",
   "mimetype": "text/x-python",
   "name": "python",
   "nbconvert_exporter": "python",
   "pygments_lexer": "ipython2",
   "version": "2.7.6"
  }
 },
 "nbformat": 4,
 "nbformat_minor": 0
}
